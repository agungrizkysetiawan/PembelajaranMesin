{
  "nbformat": 4,
  "nbformat_minor": 0,
  "metadata": {
    "colab": {
      "provenance": [],
      "gpuType": "V28"
    },
    "kernelspec": {
      "name": "python3",
      "display_name": "Python 3"
    },
    "language_info": {
      "name": "python"
    },
    "accelerator": "TPU"
  },
  "cells": [
    {
      "cell_type": "markdown",
      "source": [
        "Nama : Agung Rizky S\n",
        "\n",
        "Kelas : TI-3C\n",
        "\n",
        "Nim : 2241720187\n",
        "\n",
        "Github : https://github.com/agungrizkysetiawan/PembelajaranMesin.git"
      ],
      "metadata": {
        "id": "LhCTiNviy5V6"
      }
    },
    {
      "cell_type": "markdown",
      "source": [
        "# JOBSHEET 10"
      ],
      "metadata": {
        "id": "PXu7wBEVy_JL"
      }
    },
    {
      "cell_type": "markdown",
      "source": [
        "# Praktikum 1\n",
        "RNN untuk Analisis Sentimen"
      ],
      "metadata": {
        "id": "8mg_TaqhzAaa"
      }
    },
    {
      "cell_type": "code",
      "source": [
        "from google.colab import drive\n",
        "drive.mount('/content/drive')"
      ],
      "metadata": {
        "colab": {
          "base_uri": "https://localhost:8080/"
        },
        "id": "waOUSheo_q8Q",
        "outputId": "49355b95-ecdf-48c6-9e94-be2b6b18454b"
      },
      "execution_count": 25,
      "outputs": [
        {
          "output_type": "stream",
          "name": "stdout",
          "text": [
            "Drive already mounted at /content/drive; to attempt to forcibly remount, call drive.mount(\"/content/drive\", force_remount=True).\n"
          ]
        }
      ]
    },
    {
      "cell_type": "code",
      "execution_count": 26,
      "metadata": {
        "id": "CU8dD7aFyna6"
      },
      "outputs": [],
      "source": [
        "import numpy as np\n",
        "import tensorflow_datasets as tfds\n",
        "import tensorflow as tf\n",
        "\n",
        "tfds.disable_progress_bar()"
      ]
    },
    {
      "source": [
        "import matplotlib.pyplot as plt\n",
        "\n",
        "def plot_graphs(history, metric):\n",
        "     plt.plot(history.history[metric])\n",
        "     plt.plot(history.history['val_'+metric], '')\n",
        "     plt.xlabel(\"Epochs\")\n",
        "     plt.ylabel(metric)\n",
        "     plt.legend([metric, 'val_'+metric])"
      ],
      "cell_type": "code",
      "metadata": {
        "id": "iyU5yh5Oz0_W"
      },
      "execution_count": 7,
      "outputs": []
    },
    {
      "cell_type": "markdown",
      "source": [
        "# Setup input pipeline\n",
        "Dataset ulasan film IMDB adalah kumpulan data klasifikasi biner—semua ulasan memiliki sentimen positif atau negatif.\n"
      ],
      "metadata": {
        "id": "_8wmTviM0AUo"
      }
    },
    {
      "cell_type": "code",
      "source": [
        "\n",
        "dataset, info = tfds.load('imdb_reviews', with_info=True,\n",
        "                          as_supervised=True)\n",
        "train_dataset, test_dataset = dataset['train'], dataset['test']\n",
        "\n",
        "train_dataset.element_spec"
      ],
      "metadata": {
        "colab": {
          "base_uri": "https://localhost:8080/"
        },
        "id": "izrXJsZfzTgM",
        "outputId": "eb6db089-c19e-4ec2-ddbb-1c5268909d9d"
      },
      "execution_count": 27,
      "outputs": [
        {
          "output_type": "execute_result",
          "data": {
            "text/plain": [
              "(TensorSpec(shape=(), dtype=tf.string, name=None),\n",
              " TensorSpec(shape=(), dtype=tf.int64, name=None))"
            ]
          },
          "metadata": {},
          "execution_count": 27
        }
      ]
    },
    {
      "cell_type": "code",
      "source": [
        "for example, label in train_dataset.take(1):\n",
        "  print('text: ', example.numpy())\n",
        "  print('label: ', label.numpy())"
      ],
      "metadata": {
        "colab": {
          "base_uri": "https://localhost:8080/"
        },
        "id": "yVMUHz9t0M9b",
        "outputId": "933c41f7-33d8-432a-fb71-321a6ee177e8"
      },
      "execution_count": 28,
      "outputs": [
        {
          "output_type": "stream",
          "name": "stdout",
          "text": [
            "text:  b\"This was an absolutely terrible movie. Don't be lured in by Christopher Walken or Michael Ironside. Both are great actors, but this must simply be their worst role in history. Even their great acting could not redeem this movie's ridiculous storyline. This movie is an early nineties US propaganda piece. The most pathetic scenes were those when the Columbian rebels were making their cases for revolutions. Maria Conchita Alonso appeared phony, and her pseudo-love affair with Walken was nothing but a pathetic emotional plug in a movie that was devoid of any real meaning. I am disappointed that there are movies like this, ruining actor's like Christopher Walken's good name. I could barely sit through it.\"\n",
            "label:  0\n"
          ]
        }
      ]
    },
    {
      "cell_type": "code",
      "source": [
        "\n",
        "BUFFER_SIZE = 10000\n",
        "BATCH_SIZE = 64\n",
        "\n",
        "train_dataset = train_dataset.shuffle(BUFFER_SIZE).batch(BATCH_SIZE).prefetch(tf.data.AUTOTUNE)\n",
        "test_dataset = test_dataset.batch(BATCH_SIZE).prefetch(tf.data.AUTOTUNE)\n",
        "\n",
        "for example, label in train_dataset.take(1):\n",
        "  print('texts: ', example.numpy()[:3])\n",
        "  print()\n",
        "  print('labels: ', label.numpy()[:3])"
      ],
      "metadata": {
        "colab": {
          "base_uri": "https://localhost:8080/"
        },
        "id": "Itl9TEdb0SQj",
        "outputId": "99d9547a-0653-4cbe-f919-5306f3e4c22d"
      },
      "execution_count": 29,
      "outputs": [
        {
          "output_type": "stream",
          "name": "stdout",
          "text": [
            "texts:  [b\"So-so thriller starring Brad Pitt and Juliette Lewis, who join David Duchovny and Michelle Forbes on a road trip out west. The latter couple are researching notorious murder sites for an upcoming book; Pitt's a serial killer on the lam (unbeknownst to Dave) and Juliette is his poor, not-all-there companion. This is a good cast and the story moves along, but Pitt isn't belivably scary as a serial killer, although it is one of his better earlier roles. The best thing is here is Michelle Forbes, who always manages to shine, whether in her roles on `Homicide: Life on the Street' or in the brief series `Wonderland.'<br /><br />Vote: 6\"\n",
            " b'This is a film which had eluded me thus far but, now that I\\'ve watched it, emerges as one of the major entries in the noir style. As usual with the DivX format, the viewing was far from ideal \\xc2\\x96 marred by the occasional video and (mostly) audio glitches \\xc2\\x96 but, given that the film is still unavailable on R1 DVD, this will have to do for the moment. Since the film\\'s reputation is quite high within the genre itself, I assume that the reason behind this oversight is because it does not have a well-known actor in the lead.<br /><br />Anyway, the belated entrance of the film\\'s nominal star \\xc2\\x96 Franchot Tone \\xc2\\x96 packs quite a wallop (especially as he is shown to be the villain from the first)! Tone was a underrated actor \\xc2\\x96 he was rarely given meaty roles, and this may well be his best (making his paranoiac both fascinating and believably dangerous). The female lead \\xc2\\x96 Ella Raines, who would later feature in BRUTE FORCE (1947) as well as Siodmak\\'s own THE SUSPECT (1944) and THE STRANGE AFFAIR OF UNCLE HARRY (1945) \\xc2\\x96 is quite lovely and capably takes on the role of the distraught secretary out to prove her convicted boss (Alan Baxter) innocent of his wife\\'s brutal murder. Other key supporting parts are essayed by Thomas Gomez as the initially bullying but ultimately sympathetic police investigator, and Elisha Cook Jr. \\xc2\\x96 the genre\\'s quintessential fall guy \\xc2\\x96 as an ill-fated \"ladies\\' man\" of a percussionist.<br /><br />Like BRUTE FORCE\\'s Jules Dassin, Siodmak was on a noir roll at this point in his career and this film definitely benefits from his superb direction \\xc2\\x96 all tilted angles and terrific set-pieces, including the justly celebrated jazz sequence in which Cook manically beats on his drums in a sexual frenzy brought on by the sluttishly-attired Raines (who is putting on an act to get his attention and eventually drive him to confess that he withheld evidence at the inquest which could spring her resigned lover from jail). Another great, lengthy sequence is the one in which Raines follows a bartender (another uncooperative witness) around the streets of New York \\xc2\\x96 which results in his being mowed down by a car! <br /><br />Notable, too, is the trial sequence \\xc2\\x96 which is entirely depicted through the audience\\'s reaction so that judge, jury, witnesses and D.A. are never actually seen (although the judge\\'s voice is recognizably that of veteran character actor Samuel S. Hinds). The centerpiece of the film is the scene in which Gomez and Tone discuss the nature of the criminal involved, with the inspector\\'s put down of the latter as mentally insane giving the initially smug Tone \"dizzy spells\". The suspenseful climax finds Raines alone with Tone in his apartment, where she discovers evidence of his guilt \\xc2\\x96 and he confesses to having had an affair with Baxter\\'s wife, but killed her when she wouldn\\'t desert her husband for him.<br /><br />By the way, I hit upon a little goof in the film: while the story is clearly set in 1943, I noticed that during the taxi cab ride towards the beginning of the film \\xc2\\x96 in which Alan Curtis escorts the titular lady to the theater \\xc2\\x96 the establishing shot of New York (comprising clearly of stock footage) features a marquee promoting Laurel and Hardy\\'s 1938 musical comedy, SWISS MISS! Incidentally, famed mystery writer Cornell Woolrich wrote the original novel on which this was based using a pseudonym.'\n",
            " b\"Sergio Martino's The Case of the Scorpion's Tail is a scenic giallo from the early 70's heyday of the genre. An explosion on an aeroplane results in one million dollars in insurance money for a bereaved but unfaithful wife. The money is subsequently snatched by a black-clad assassin and a series of brutal murders follow.<br /><br />Scorpion's Tail plays the mystery element, written by giallo specialist Ernesto Gastaldi, fairly straight. But, being a giallo, the murders themselves are memorable and well-staged. In fact, the violence in this movie is very strong in places - a scene with a broken bottle being particularly graphic. The emphasis on the violence no doubt influencing the giallo genre to move into more and more extreme territory. But like the best films in the genre the brutality is offset by a good score and attractive photography. The music by Bruno Nicolai is at times reminiscent of Ennio Morricone's avant-garde work in The Bird with the Crystal Plumage but is also strong in its own right. The photography is helped by the nice use of foreign locales - in this case London and Athens - where Martino manages to get in, respectively, the Houses of Parliament and the Acropolis! There is also some inventive camera-work too, the most effective being the use of slow motion in a sequence where a woman runs towards the door where the maniac is prowling outside. In this particular scene Martino has the killer hack through the door with a knife in a manner influenced by Dario Argento's Crystal Plumage, however, it also has the killer attempt to flick the latch open with the blade of a knife which is something repeated later by Argento in Suspiria. So Martino's film is influential in its own right.<br /><br />This is a good solid giallo that both genre and non-genre fans can appreciate. The performances are good and the production values are fine (although the plane explosion is, shall we say, somewhat low-budget!). The DVD release by NoShame is nice. It has both the English and Italian language options which is a real bonus. However, it is worth pointing out that at times you need to be a fast reader to fully appreciate the English subtitle option. This applies to both the movie and the documentary in the extras. This is a minor point though, the DVD release is a worthy addition to any giallo collection.\"]\n",
            "\n",
            "labels:  [1 1 1]\n"
          ]
        }
      ]
    },
    {
      "cell_type": "markdown",
      "source": [
        "# Buat Teks Encoder"
      ],
      "metadata": {
        "id": "tjNgYgC80U6S"
      }
    },
    {
      "cell_type": "code",
      "source": [
        "VOCAB_SIZE = 1000\n",
        "encoder = tf.keras.layers.TextVectorization(\n",
        "    max_tokens=VOCAB_SIZE)\n",
        "encoder.adapt(train_dataset.map(lambda text, label: text))"
      ],
      "metadata": {
        "id": "KryELi2h0X9a"
      },
      "execution_count": 30,
      "outputs": []
    },
    {
      "cell_type": "code",
      "source": [
        "vocab = np.array(encoder.get_vocabulary())\n",
        "vocab[:20]"
      ],
      "metadata": {
        "colab": {
          "base_uri": "https://localhost:8080/"
        },
        "id": "nsNLRc-C0duH",
        "outputId": "80abc79c-6834-4902-f9f4-365f255032b5"
      },
      "execution_count": 31,
      "outputs": [
        {
          "output_type": "execute_result",
          "data": {
            "text/plain": [
              "array(['', '[UNK]', 'the', 'and', 'a', 'of', 'to', 'is', 'in', 'it', 'i',\n",
              "       'this', 'that', 'br', 'was', 'as', 'for', 'with', 'movie', 'but'],\n",
              "      dtype='<U14')"
            ]
          },
          "metadata": {},
          "execution_count": 31
        }
      ]
    },
    {
      "cell_type": "code",
      "source": [
        "encoded_example=encoder(example)[:3].numpy()\n",
        "encoded_example"
      ],
      "metadata": {
        "colab": {
          "base_uri": "https://localhost:8080/"
        },
        "id": "M1F_wMWQ0lHk",
        "outputId": "7a2a2e80-da0d-451b-9812-30773e60e6bc"
      },
      "execution_count": 32,
      "outputs": [
        {
          "output_type": "execute_result",
          "data": {
            "text/plain": [
              "array([[  1, 773,   1, ...,   0,   0,   0],\n",
              "       [ 11,   7,   4, ...,   0,   0,   0],\n",
              "       [  1,   1,   2, ...,   0,   0,   0]])"
            ]
          },
          "metadata": {},
          "execution_count": 32
        }
      ]
    },
    {
      "cell_type": "code",
      "source": [
        "\n",
        "for n in range(3):\n",
        "  print(\"Original: \", example[n].numpy())\n",
        "  print(\"Round-trip: \", \" \".join(vocab[encoded_example[n]]))\n",
        "  print()"
      ],
      "metadata": {
        "colab": {
          "base_uri": "https://localhost:8080/"
        },
        "id": "DL9BO9yK0uou",
        "outputId": "94bd76ee-746b-45ff-871d-6a34ca517420"
      },
      "execution_count": 33,
      "outputs": [
        {
          "output_type": "stream",
          "name": "stdout",
          "text": [
            "Original:  b\"So-so thriller starring Brad Pitt and Juliette Lewis, who join David Duchovny and Michelle Forbes on a road trip out west. The latter couple are researching notorious murder sites for an upcoming book; Pitt's a serial killer on the lam (unbeknownst to Dave) and Juliette is his poor, not-all-there companion. This is a good cast and the story moves along, but Pitt isn't belivably scary as a serial killer, although it is one of his better earlier roles. The best thing is here is Michelle Forbes, who always manages to shine, whether in her roles on `Homicide: Life on the Street' or in the brief series `Wonderland.'<br /><br />Vote: 6\"\n",
            "Round-trip:  [UNK] thriller [UNK] [UNK] [UNK] and [UNK] [UNK] who [UNK] david [UNK] and [UNK] [UNK] on a [UNK] [UNK] out [UNK] the [UNK] couple are [UNK] [UNK] murder [UNK] for an [UNK] book [UNK] a [UNK] killer on the [UNK] [UNK] to [UNK] and [UNK] is his poor [UNK] [UNK] this is a good cast and the story [UNK] along but [UNK] isnt [UNK] scary as a [UNK] killer although it is one of his better earlier roles the best thing is here is [UNK] [UNK] who always manages to [UNK] whether in her roles on [UNK] life on the street or in the [UNK] series [UNK] br [UNK] [UNK]                                                                                                                                                                                                                                                                                                                                                                                                                                                                                                                           \n",
            "\n",
            "Original:  b'This is a film which had eluded me thus far but, now that I\\'ve watched it, emerges as one of the major entries in the noir style. As usual with the DivX format, the viewing was far from ideal \\xc2\\x96 marred by the occasional video and (mostly) audio glitches \\xc2\\x96 but, given that the film is still unavailable on R1 DVD, this will have to do for the moment. Since the film\\'s reputation is quite high within the genre itself, I assume that the reason behind this oversight is because it does not have a well-known actor in the lead.<br /><br />Anyway, the belated entrance of the film\\'s nominal star \\xc2\\x96 Franchot Tone \\xc2\\x96 packs quite a wallop (especially as he is shown to be the villain from the first)! Tone was a underrated actor \\xc2\\x96 he was rarely given meaty roles, and this may well be his best (making his paranoiac both fascinating and believably dangerous). The female lead \\xc2\\x96 Ella Raines, who would later feature in BRUTE FORCE (1947) as well as Siodmak\\'s own THE SUSPECT (1944) and THE STRANGE AFFAIR OF UNCLE HARRY (1945) \\xc2\\x96 is quite lovely and capably takes on the role of the distraught secretary out to prove her convicted boss (Alan Baxter) innocent of his wife\\'s brutal murder. Other key supporting parts are essayed by Thomas Gomez as the initially bullying but ultimately sympathetic police investigator, and Elisha Cook Jr. \\xc2\\x96 the genre\\'s quintessential fall guy \\xc2\\x96 as an ill-fated \"ladies\\' man\" of a percussionist.<br /><br />Like BRUTE FORCE\\'s Jules Dassin, Siodmak was on a noir roll at this point in his career and this film definitely benefits from his superb direction \\xc2\\x96 all tilted angles and terrific set-pieces, including the justly celebrated jazz sequence in which Cook manically beats on his drums in a sexual frenzy brought on by the sluttishly-attired Raines (who is putting on an act to get his attention and eventually drive him to confess that he withheld evidence at the inquest which could spring her resigned lover from jail). Another great, lengthy sequence is the one in which Raines follows a bartender (another uncooperative witness) around the streets of New York \\xc2\\x96 which results in his being mowed down by a car! <br /><br />Notable, too, is the trial sequence \\xc2\\x96 which is entirely depicted through the audience\\'s reaction so that judge, jury, witnesses and D.A. are never actually seen (although the judge\\'s voice is recognizably that of veteran character actor Samuel S. Hinds). The centerpiece of the film is the scene in which Gomez and Tone discuss the nature of the criminal involved, with the inspector\\'s put down of the latter as mentally insane giving the initially smug Tone \"dizzy spells\". The suspenseful climax finds Raines alone with Tone in his apartment, where she discovers evidence of his guilt \\xc2\\x96 and he confesses to having had an affair with Baxter\\'s wife, but killed her when she wouldn\\'t desert her husband for him.<br /><br />By the way, I hit upon a little goof in the film: while the story is clearly set in 1943, I noticed that during the taxi cab ride towards the beginning of the film \\xc2\\x96 in which Alan Curtis escorts the titular lady to the theater \\xc2\\x96 the establishing shot of New York (comprising clearly of stock footage) features a marquee promoting Laurel and Hardy\\'s 1938 musical comedy, SWISS MISS! Incidentally, famed mystery writer Cornell Woolrich wrote the original novel on which this was based using a pseudonym.'\n",
            "Round-trip:  this is a film which had [UNK] me [UNK] far but now that ive watched it [UNK] as one of the major [UNK] in the [UNK] style as usual with the [UNK] [UNK] the viewing was far from [UNK]  [UNK] by the [UNK] video and mostly [UNK] [UNK]  but given that the film is still [UNK] on [UNK] dvd this will have to do for the moment since the films [UNK] is quite high within the genre itself i [UNK] that the reason behind this [UNK] is because it does not have a [UNK] actor in the [UNK] br anyway the [UNK] [UNK] of the films [UNK] star  [UNK] [UNK]  [UNK] quite a [UNK] especially as he is shown to be the [UNK] from the first [UNK] was a [UNK] actor  he was [UNK] given [UNK] roles and this may well be his best making his [UNK] both [UNK] and [UNK] [UNK] the female lead  [UNK] [UNK] who would later feature in [UNK] [UNK] [UNK] as well as [UNK] own the [UNK] [UNK] and the strange [UNK] of [UNK] [UNK] [UNK]  is quite [UNK] and [UNK] takes on the role of the [UNK] [UNK] out to [UNK] her [UNK] [UNK] [UNK] [UNK] [UNK] of his [UNK] [UNK] murder other [UNK] supporting parts are [UNK] by [UNK] [UNK] as the [UNK] [UNK] but [UNK] [UNK] police [UNK] and [UNK] [UNK] [UNK]  the [UNK] [UNK] fall guy  as an [UNK] [UNK] man of a [UNK] br like [UNK] [UNK] [UNK] [UNK] [UNK] was on a [UNK] [UNK] at this point in his career and this film definitely [UNK] from his superb direction  all [UNK] [UNK] and [UNK] [UNK] including the [UNK] [UNK] [UNK] sequence in which [UNK] [UNK] [UNK] on his [UNK] in a sexual [UNK] brought on by the [UNK] [UNK] who is [UNK] on an act to get his attention and eventually [UNK] him to [UNK] that he [UNK] [UNK] at the [UNK] which could [UNK] her [UNK] [UNK] from [UNK] another great [UNK] sequence is the one in which [UNK] [UNK] a [UNK] another [UNK] [UNK] around the [UNK] of new york  which [UNK] in his being [UNK] down by a car br br [UNK] too is the [UNK] sequence  which is [UNK] [UNK] through the [UNK] [UNK] so that [UNK] [UNK] [UNK] and [UNK] are never actually seen although the [UNK] voice is [UNK] that of [UNK] character actor [UNK] [UNK] [UNK] the [UNK] of the film is the scene in which [UNK] and [UNK] [UNK] the nature of the [UNK] involved with the [UNK] put down of the [UNK] as [UNK] [UNK] giving the [UNK] [UNK] [UNK] [UNK] [UNK] the [UNK] [UNK] finds [UNK] alone with [UNK] in his [UNK] where she [UNK] [UNK] of his [UNK]  and he [UNK] to having had an [UNK] with [UNK] wife but killed her when she wouldnt [UNK] her husband for [UNK] br by the way i hit upon a little [UNK] in the film while the story is clearly set in [UNK] i [UNK] that during the [UNK] [UNK] [UNK] towards the beginning of the film  in which [UNK] [UNK] [UNK] the [UNK] lady to the theater  the [UNK] shot of new york [UNK] clearly of [UNK] footage features a [UNK] [UNK] [UNK] and [UNK] [UNK] musical comedy [UNK] miss [UNK] [UNK] mystery writer [UNK] [UNK] [UNK] the original novel on which this was based using a [UNK]                                 \n",
            "\n",
            "Original:  b\"Sergio Martino's The Case of the Scorpion's Tail is a scenic giallo from the early 70's heyday of the genre. An explosion on an aeroplane results in one million dollars in insurance money for a bereaved but unfaithful wife. The money is subsequently snatched by a black-clad assassin and a series of brutal murders follow.<br /><br />Scorpion's Tail plays the mystery element, written by giallo specialist Ernesto Gastaldi, fairly straight. But, being a giallo, the murders themselves are memorable and well-staged. In fact, the violence in this movie is very strong in places - a scene with a broken bottle being particularly graphic. The emphasis on the violence no doubt influencing the giallo genre to move into more and more extreme territory. But like the best films in the genre the brutality is offset by a good score and attractive photography. The music by Bruno Nicolai is at times reminiscent of Ennio Morricone's avant-garde work in The Bird with the Crystal Plumage but is also strong in its own right. The photography is helped by the nice use of foreign locales - in this case London and Athens - where Martino manages to get in, respectively, the Houses of Parliament and the Acropolis! There is also some inventive camera-work too, the most effective being the use of slow motion in a sequence where a woman runs towards the door where the maniac is prowling outside. In this particular scene Martino has the killer hack through the door with a knife in a manner influenced by Dario Argento's Crystal Plumage, however, it also has the killer attempt to flick the latch open with the blade of a knife which is something repeated later by Argento in Suspiria. So Martino's film is influential in its own right.<br /><br />This is a good solid giallo that both genre and non-genre fans can appreciate. The performances are good and the production values are fine (although the plane explosion is, shall we say, somewhat low-budget!). The DVD release by NoShame is nice. It has both the English and Italian language options which is a real bonus. However, it is worth pointing out that at times you need to be a fast reader to fully appreciate the English subtitle option. This applies to both the movie and the documentary in the extras. This is a minor point though, the DVD release is a worthy addition to any giallo collection.\"\n",
            "Round-trip:  [UNK] [UNK] the case of the [UNK] [UNK] is a [UNK] [UNK] from the early 70s [UNK] of the genre an [UNK] on an [UNK] [UNK] in one [UNK] [UNK] in [UNK] money for a [UNK] but [UNK] wife the money is [UNK] [UNK] by a [UNK] [UNK] and a series of [UNK] [UNK] [UNK] br [UNK] [UNK] plays the mystery [UNK] written by [UNK] [UNK] [UNK] [UNK] fairly straight but being a [UNK] the [UNK] themselves are memorable and [UNK] in fact the violence in this movie is very strong in [UNK] a scene with a [UNK] [UNK] being particularly [UNK] the [UNK] on the violence no doubt [UNK] the [UNK] genre to move into more and more [UNK] [UNK] but like the best films in the genre the [UNK] is [UNK] by a good score and [UNK] [UNK] the music by [UNK] [UNK] is at times [UNK] of [UNK] [UNK] [UNK] work in the [UNK] with the [UNK] [UNK] but is also strong in its own right the [UNK] is [UNK] by the nice use of [UNK] [UNK] in this case [UNK] and [UNK] where [UNK] manages to get in [UNK] the [UNK] of [UNK] and the [UNK] there is also some [UNK] [UNK] too the most [UNK] being the use of slow [UNK] in a sequence where a woman [UNK] towards the [UNK] where the [UNK] is [UNK] outside in this particular scene [UNK] has the killer [UNK] through the [UNK] with a [UNK] in a [UNK] [UNK] by [UNK] [UNK] [UNK] [UNK] however it also has the killer attempt to flick the [UNK] open with the [UNK] of a [UNK] which is something [UNK] later by [UNK] in [UNK] so [UNK] film is [UNK] in its own [UNK] br this is a good [UNK] [UNK] that both genre and [UNK] fans can [UNK] the performances are good and the production [UNK] are fine although the [UNK] [UNK] is [UNK] we say somewhat [UNK] the dvd release by [UNK] is nice it has both the english and [UNK] [UNK] [UNK] which is a real [UNK] however it is worth [UNK] out that at times you need to be a fast [UNK] to [UNK] [UNK] the english [UNK] [UNK] this [UNK] to both the movie and the documentary in the [UNK] this is a [UNK] point though the dvd release is a [UNK] [UNK] to any [UNK] [UNK]                                                                                                                                                                                                                         \n",
            "\n"
          ]
        }
      ]
    },
    {
      "cell_type": "markdown",
      "source": [
        "# Buat Model"
      ],
      "metadata": {
        "id": "oQTuCMbj00Ne"
      }
    },
    {
      "cell_type": "code",
      "source": [
        "\n",
        "model = tf.keras.Sequential([\n",
        "    encoder,\n",
        "    tf.keras.layers.Embedding(\n",
        "        input_dim=len(encoder.get_vocabulary()),\n",
        "        output_dim=64,\n",
        "        # Use masking to handle the variable sequence lengths\n",
        "        mask_zero=True),\n",
        "    tf.keras.layers.Bidirectional(tf.keras.layers.LSTM(64)),\n",
        "    tf.keras.layers.Dense(64, activation='relu'),\n",
        "    tf.keras.layers.Dense(1)\n",
        "])"
      ],
      "metadata": {
        "id": "C_IDiJyo0234"
      },
      "execution_count": 34,
      "outputs": []
    },
    {
      "cell_type": "code",
      "source": [
        "print([layer.supports_masking for layer in model.layers])"
      ],
      "metadata": {
        "colab": {
          "base_uri": "https://localhost:8080/"
        },
        "id": "InR2zm8e0-I0",
        "outputId": "064ebe70-50dc-4a4c-b8f7-e7b38c00547b"
      },
      "execution_count": 35,
      "outputs": [
        {
          "output_type": "stream",
          "name": "stdout",
          "text": [
            "[False, True, True, True, True]\n"
          ]
        }
      ]
    },
    {
      "cell_type": "code",
      "source": [
        "import numpy as np\n",
        "import tensorflow as tf\n",
        "\n",
        "# Fungsi untuk memproses teks menjadi dataset\n",
        "def create_dataset(text):\n",
        "    return tf.data.Dataset.from_tensor_slices([text]).batch(1)\n",
        "\n",
        "sample_text = ('The movie was cool. The animation and the graphics '\n",
        "               'were out of this world. I would recommend this movie.')\n",
        "dataset = create_dataset(sample_text)\n",
        "\n",
        "# Prediksi menggunakan model\n",
        "predictions = model.predict(dataset)\n",
        "print(predictions[0])"
      ],
      "metadata": {
        "id": "VDiA9bXevquw",
        "colab": {
          "base_uri": "https://localhost:8080/"
        },
        "outputId": "a016398c-7266-4db4-9b6a-242956dacd59"
      },
      "execution_count": 36,
      "outputs": [
        {
          "output_type": "stream",
          "name": "stdout",
          "text": [
            "\u001b[1m1/1\u001b[0m \u001b[32m━━━━━━━━━━━━━━━━━━━━\u001b[0m\u001b[37m\u001b[0m \u001b[1m1s\u001b[0m 1s/step\n",
            "[0.02689573]\n"
          ]
        }
      ]
    },
    {
      "cell_type": "code",
      "source": [
        "\n",
        "import numpy as np\n",
        "import tensorflow as tf\n",
        "\n",
        "# Fungsi untuk memproses teks menjadi dataset\n",
        "def create_dataset(texts):\n",
        "    return tf.data.Dataset.from_tensor_slices(texts).batch(1)\n",
        "\n",
        "sample_text = ('The movie was cool. The animation and the graphics '\n",
        "               'were out of this world. I would recommend this movie.')\n",
        "padding = \"the \" * 2000  # Padding text\n",
        "texts = [sample_text, padding]  # List of texts including padding\n",
        "\n",
        "# Membuat dataset dari teks\n",
        "dataset = create_dataset(texts)\n",
        "\n",
        "# Prediksi menggunakan model\n",
        "predictions = model.predict(dataset)\n",
        "for pred in predictions:\n",
        "    print(pred)"
      ],
      "metadata": {
        "colab": {
          "base_uri": "https://localhost:8080/"
        },
        "id": "q50FCrGc85WP",
        "outputId": "39860982-9dbd-491b-8d59-e7aff315f6a3"
      },
      "execution_count": 37,
      "outputs": [
        {
          "output_type": "stream",
          "name": "stdout",
          "text": [
            "\u001b[1m2/2\u001b[0m \u001b[32m━━━━━━━━━━━━━━━━━━━━\u001b[0m\u001b[37m\u001b[0m \u001b[1m0s\u001b[0m 244ms/step\n",
            "[0.02689573]\n",
            "[0.03421294]\n"
          ]
        }
      ]
    },
    {
      "cell_type": "code",
      "source": [
        "\n",
        "model.compile(loss=tf.keras.losses.BinaryCrossentropy(from_logits=True),\n",
        "              optimizer=tf.keras.optimizers.Adam(1e-4),\n",
        "              metrics=['accuracy'])"
      ],
      "metadata": {
        "id": "U0Sp4ld6BCyo"
      },
      "execution_count": 38,
      "outputs": []
    },
    {
      "cell_type": "markdown",
      "source": [
        "# Train Model"
      ],
      "metadata": {
        "id": "g-36Cddo1a9y"
      }
    },
    {
      "cell_type": "code",
      "source": [
        "history = model.fit(train_dataset, epochs=10,\n",
        "                    validation_data=test_dataset,\n",
        "                    validation_steps=30)"
      ],
      "metadata": {
        "colab": {
          "base_uri": "https://localhost:8080/"
        },
        "id": "Ycy4tTZNBPCC",
        "outputId": "1b8cfe0e-fd45-4588-a8ed-98ee58032c5d"
      },
      "execution_count": 39,
      "outputs": [
        {
          "output_type": "stream",
          "name": "stdout",
          "text": [
            "Epoch 1/10\n",
            "\u001b[1m391/391\u001b[0m \u001b[32m━━━━━━━━━━━━━━━━━━━━\u001b[0m\u001b[37m\u001b[0m \u001b[1m784s\u001b[0m 2s/step - accuracy: 0.5252 - loss: 0.6746 - val_accuracy: 0.7625 - val_loss: 0.4402\n",
            "Epoch 2/10\n",
            "\u001b[1m391/391\u001b[0m \u001b[32m━━━━━━━━━━━━━━━━━━━━\u001b[0m\u001b[37m\u001b[0m \u001b[1m769s\u001b[0m 2s/step - accuracy: 0.8174 - loss: 0.3973 - val_accuracy: 0.8474 - val_loss: 0.3347\n",
            "Epoch 3/10\n",
            "\u001b[1m391/391\u001b[0m \u001b[32m━━━━━━━━━━━━━━━━━━━━\u001b[0m\u001b[37m\u001b[0m \u001b[1m768s\u001b[0m 2s/step - accuracy: 0.8493 - loss: 0.3468 - val_accuracy: 0.8672 - val_loss: 0.3088\n",
            "Epoch 4/10\n",
            "\u001b[1m391/391\u001b[0m \u001b[32m━━━━━━━━━━━━━━━━━━━━\u001b[0m\u001b[37m\u001b[0m \u001b[1m795s\u001b[0m 2s/step - accuracy: 0.8547 - loss: 0.3276 - val_accuracy: 0.8510 - val_loss: 0.3368\n",
            "Epoch 5/10\n",
            "\u001b[1m391/391\u001b[0m \u001b[32m━━━━━━━━━━━━━━━━━━━━\u001b[0m\u001b[37m\u001b[0m \u001b[1m763s\u001b[0m 2s/step - accuracy: 0.8636 - loss: 0.3150 - val_accuracy: 0.8620 - val_loss: 0.3193\n",
            "Epoch 6/10\n",
            "\u001b[1m391/391\u001b[0m \u001b[32m━━━━━━━━━━━━━━━━━━━━\u001b[0m\u001b[37m\u001b[0m \u001b[1m792s\u001b[0m 2s/step - accuracy: 0.8661 - loss: 0.3092 - val_accuracy: 0.8490 - val_loss: 0.3288\n",
            "Epoch 7/10\n",
            "\u001b[1m391/391\u001b[0m \u001b[32m━━━━━━━━━━━━━━━━━━━━\u001b[0m\u001b[37m\u001b[0m \u001b[1m822s\u001b[0m 2s/step - accuracy: 0.8656 - loss: 0.3111 - val_accuracy: 0.8526 - val_loss: 0.3087\n",
            "Epoch 8/10\n",
            "\u001b[1m391/391\u001b[0m \u001b[32m━━━━━━━━━━━━━━━━━━━━\u001b[0m\u001b[37m\u001b[0m \u001b[1m798s\u001b[0m 2s/step - accuracy: 0.8712 - loss: 0.3016 - val_accuracy: 0.8620 - val_loss: 0.3174\n",
            "Epoch 9/10\n",
            "\u001b[1m391/391\u001b[0m \u001b[32m━━━━━━━━━━━━━━━━━━━━\u001b[0m\u001b[37m\u001b[0m \u001b[1m794s\u001b[0m 2s/step - accuracy: 0.8647 - loss: 0.3095 - val_accuracy: 0.8651 - val_loss: 0.3129\n",
            "Epoch 10/10\n",
            "\u001b[1m391/391\u001b[0m \u001b[32m━━━━━━━━━━━━━━━━━━━━\u001b[0m\u001b[37m\u001b[0m \u001b[1m756s\u001b[0m 2s/step - accuracy: 0.8677 - loss: 0.3054 - val_accuracy: 0.8443 - val_loss: 0.3222\n"
          ]
        }
      ]
    },
    {
      "cell_type": "code",
      "source": [
        "test_loss, test_acc = model.evaluate(test_dataset)\n",
        "\n",
        "print('Test Loss:', test_loss)\n",
        "print('Test Accuracy:', test_acc)"
      ],
      "metadata": {
        "colab": {
          "base_uri": "https://localhost:8080/"
        },
        "id": "mqPb2rawymwj",
        "outputId": "b45877ee-e8f8-4133-83f4-536277478745"
      },
      "execution_count": 40,
      "outputs": [
        {
          "output_type": "stream",
          "name": "stdout",
          "text": [
            "\u001b[1m391/391\u001b[0m \u001b[32m━━━━━━━━━━━━━━━━━━━━\u001b[0m\u001b[37m\u001b[0m \u001b[1m184s\u001b[0m 470ms/step - accuracy: 0.8483 - loss: 0.3215\n",
            "Test Loss: 0.3214717507362366\n",
            "Test Accuracy: 0.8476399779319763\n"
          ]
        }
      ]
    },
    {
      "cell_type": "code",
      "source": [
        "\n",
        "plt.figure(figsize=(16, 8))\n",
        "plt.subplot(1, 2, 1)\n",
        "plot_graphs(history, 'accuracy')\n",
        "plt.ylim(None, 1)\n",
        "plt.subplot(1, 2, 2)\n",
        "plot_graphs(history, 'loss')\n",
        "plt.ylim(0, None)"
      ],
      "metadata": {
        "colab": {
          "base_uri": "https://localhost:8080/",
          "height": 718
        },
        "id": "z8sIf0nzyn9G",
        "outputId": "4c536ca8-a5d4-4603-e049-db464225e38b"
      },
      "execution_count": 41,
      "outputs": [
        {
          "output_type": "execute_result",
          "data": {
            "text/plain": [
              "(0.0, 0.6262600675225258)"
            ]
          },
          "metadata": {},
          "execution_count": 41
        },
        {
          "output_type": "display_data",
          "data": {
            "text/plain": [
              "<Figure size 1600x800 with 2 Axes>"
            ],
            "image/png": "[encoded data removed]"
          },
          "metadata": {}
        }
      ]
    },
    {
      "cell_type": "code",
      "source": [
        "import numpy as np\n",
        "import tensorflow as tf\n",
        "\n",
        "sample_text = ('The movie was cool. The animation and the graphics '\n",
        "               'were out of this world. I would recommend this movie.')\n",
        "\n",
        "# Mengonversi teks menjadi tensor\n",
        "sample_tensor = tf.convert_to_tensor([sample_text])\n",
        "\n",
        "# Prediksi menggunakan model\n",
        "predictions = model.predict(sample_tensor)\n",
        "print(predictions[0])"
      ],
      "metadata": {
        "colab": {
          "base_uri": "https://localhost:8080/"
        },
        "id": "_EPKSXdayq-r",
        "outputId": "ae2de88a-cd4e-4110-e536-23bc4227c6f6"
      },
      "execution_count": 42,
      "outputs": [
        {
          "output_type": "stream",
          "name": "stdout",
          "text": [
            "\u001b[1m1/1\u001b[0m \u001b[32m━━━━━━━━━━━━━━━━━━━━\u001b[0m\u001b[37m\u001b[0m \u001b[1m1s\u001b[0m 632ms/step\n",
            "[0.6832535]\n"
          ]
        }
      ]
    },
    {
      "cell_type": "markdown",
      "source": [
        "\n",
        "# Stack two or more LSTM layers"
      ],
      "metadata": {
        "id": "yIGDmjKw1zne"
      }
    },
    {
      "cell_type": "code",
      "source": [
        "\n",
        "model = tf.keras.Sequential([\n",
        "    encoder,\n",
        "    tf.keras.layers.Embedding(len(encoder.get_vocabulary()), 64, mask_zero=True),\n",
        "    tf.keras.layers.Bidirectional(tf.keras.layers.LSTM(64, return_sequences=True)),\n",
        "    tf.keras.layers.Bidirectional(tf.keras.layers.LSTM(32)),\n",
        "    tf.keras.layers.Dense(64, activation='relu'),\n",
        "    tf.keras.layers.Dropout(0.5),\n",
        "    tf.keras.layers.Dense(1)\n",
        "])"
      ],
      "metadata": {
        "id": "ZZSjyG-7yv4F"
      },
      "execution_count": 43,
      "outputs": []
    },
    {
      "cell_type": "code",
      "source": [
        "model.compile(loss=tf.keras.losses.BinaryCrossentropy(from_logits=True),\n",
        "              optimizer=tf.keras.optimizers.Adam(1e-4),\n",
        "              metrics=['accuracy'])"
      ],
      "metadata": {
        "id": "b-hSf8TLyyh_"
      },
      "execution_count": 44,
      "outputs": []
    },
    {
      "cell_type": "code",
      "source": [
        "history = model.fit(train_dataset, epochs=10,\n",
        "                    validation_data=test_dataset,\n",
        "                    validation_steps=30)"
      ],
      "metadata": {
        "colab": {
          "base_uri": "https://localhost:8080/"
        },
        "id": "m_dXW1vfy0U1",
        "outputId": "d4686e48-f357-4a19-8d77-a25e4f183945"
      },
      "execution_count": 45,
      "outputs": [
        {
          "output_type": "stream",
          "name": "stdout",
          "text": [
            "Epoch 1/10\n",
            "\u001b[1m391/391\u001b[0m \u001b[32m━━━━━━━━━━━━━━━━━━━━\u001b[0m\u001b[37m\u001b[0m \u001b[1m1598s\u001b[0m 4s/step - accuracy: 0.5141 - loss: 0.6806 - val_accuracy: 0.8109 - val_loss: 0.4133\n",
            "Epoch 2/10\n",
            "\u001b[1m391/391\u001b[0m \u001b[32m━━━━━━━━━━━━━━━━━━━━\u001b[0m\u001b[37m\u001b[0m \u001b[1m1483s\u001b[0m 4s/step - accuracy: 0.8189 - loss: 0.4078 - val_accuracy: 0.8547 - val_loss: 0.3379\n",
            "Epoch 3/10\n",
            "\u001b[1m391/391\u001b[0m \u001b[32m━━━━━━━━━━━━━━━━━━━━\u001b[0m\u001b[37m\u001b[0m \u001b[1m1458s\u001b[0m 4s/step - accuracy: 0.8493 - loss: 0.3475 - val_accuracy: 0.8745 - val_loss: 0.3015\n",
            "Epoch 4/10\n",
            "\u001b[1m391/391\u001b[0m \u001b[32m━━━━━━━━━━━━━━━━━━━━\u001b[0m\u001b[37m\u001b[0m \u001b[1m1441s\u001b[0m 4s/step - accuracy: 0.8632 - loss: 0.3222 - val_accuracy: 0.8562 - val_loss: 0.3299\n",
            "Epoch 5/10\n",
            "\u001b[1m391/391\u001b[0m \u001b[32m━━━━━━━━━━━━━━━━━━━━\u001b[0m\u001b[37m\u001b[0m \u001b[1m1472s\u001b[0m 4s/step - accuracy: 0.8654 - loss: 0.3184 - val_accuracy: 0.8583 - val_loss: 0.3233\n",
            "Epoch 6/10\n",
            "\u001b[1m391/391\u001b[0m \u001b[32m━━━━━━━━━━━━━━━━━━━━\u001b[0m\u001b[37m\u001b[0m \u001b[1m1470s\u001b[0m 4s/step - accuracy: 0.8686 - loss: 0.3114 - val_accuracy: 0.8620 - val_loss: 0.3181\n",
            "Epoch 7/10\n",
            "\u001b[1m391/391\u001b[0m \u001b[32m━━━━━━━━━━━━━━━━━━━━\u001b[0m\u001b[37m\u001b[0m \u001b[1m1459s\u001b[0m 4s/step - accuracy: 0.8678 - loss: 0.3049 - val_accuracy: 0.8661 - val_loss: 0.3073\n",
            "Epoch 8/10\n",
            "\u001b[1m391/391\u001b[0m \u001b[32m━━━━━━━━━━━━━━━━━━━━\u001b[0m\u001b[37m\u001b[0m \u001b[1m1458s\u001b[0m 4s/step - accuracy: 0.8681 - loss: 0.3060 - val_accuracy: 0.8365 - val_loss: 0.3258\n",
            "Epoch 9/10\n",
            "\u001b[1m391/391\u001b[0m \u001b[32m━━━━━━━━━━━━━━━━━━━━\u001b[0m\u001b[37m\u001b[0m \u001b[1m1424s\u001b[0m 4s/step - accuracy: 0.8712 - loss: 0.3006 - val_accuracy: 0.8625 - val_loss: 0.3066\n",
            "Epoch 10/10\n",
            "\u001b[1m391/391\u001b[0m \u001b[32m━━━━━━━━━━━━━━━━━━━━\u001b[0m\u001b[37m\u001b[0m \u001b[1m1409s\u001b[0m 4s/step - accuracy: 0.8718 - loss: 0.2952 - val_accuracy: 0.8635 - val_loss: 0.3405\n"
          ]
        }
      ]
    },
    {
      "cell_type": "code",
      "source": [
        "\n",
        "test_loss, test_acc = model.evaluate(test_dataset)\n",
        "\n",
        "print('Test Loss:', test_loss)\n",
        "print('Test Accuracy:', test_acc)"
      ],
      "metadata": {
        "colab": {
          "base_uri": "https://localhost:8080/"
        },
        "id": "NT_foU18y2U1",
        "outputId": "574730ae-1807-4089-9ebd-e8eb3113e886"
      },
      "execution_count": 46,
      "outputs": [
        {
          "output_type": "stream",
          "name": "stdout",
          "text": [
            "\u001b[1m391/391\u001b[0m \u001b[32m━━━━━━━━━━━━━━━━━━━━\u001b[0m\u001b[37m\u001b[0m \u001b[1m291s\u001b[0m 745ms/step - accuracy: 0.8642 - loss: 0.3430\n",
            "Test Loss: 0.3408074676990509\n",
            "Test Accuracy: 0.8626800179481506\n"
          ]
        }
      ]
    },
    {
      "cell_type": "code",
      "source": [
        "\n",
        "import numpy as np\n",
        "import tensorflow as tf\n",
        "\n",
        "sample_text = ('The movie was not good. The animation and the graphics '\n",
        "                'were terrible. I would not recommend this movie.')\n",
        "\n",
        "# Mengonversi teks menjadi tensor\n",
        "sample_tensor = tf.convert_to_tensor([sample_text])\n",
        "\n",
        "# Prediksi menggunakan model\n",
        "predictions = model.predict(sample_tensor)\n",
        "print(predictions)"
      ],
      "metadata": {
        "colab": {
          "base_uri": "https://localhost:8080/"
        },
        "id": "_qL_Rmsky4tJ",
        "outputId": "e618118b-2d03-4680-8532-f312091e8226"
      },
      "execution_count": 47,
      "outputs": [
        {
          "output_type": "stream",
          "name": "stdout",
          "text": [
            "\u001b[1m1/1\u001b[0m \u001b[32m━━━━━━━━━━━━━━━━━━━━\u001b[0m\u001b[37m\u001b[0m \u001b[1m1s\u001b[0m 1s/step\n",
            "[[-1.9176033]]\n"
          ]
        }
      ]
    },
    {
      "cell_type": "code",
      "source": [
        "\n",
        "plt.figure(figsize=(16, 6))\n",
        "plt.subplot(1, 2, 1)\n",
        "plot_graphs(history, 'accuracy')\n",
        "plt.subplot(1, 2, 2)\n",
        "plot_graphs(history, 'loss')"
      ],
      "metadata": {
        "colab": {
          "base_uri": "https://localhost:8080/",
          "height": 542
        },
        "id": "Y9nfli_Gy6jG",
        "outputId": "c2657e20-de78-4eef-f36d-4375d41ec2e9"
      },
      "execution_count": 48,
      "outputs": [
        {
          "output_type": "display_data",
          "data": {
            "text/plain": [
              "<Figure size 1600x600 with 2 Axes>"
            ],
            "image/png": "[encoded data removed]"
          },
          "metadata": {}
        }
      ]
    },
    {
      "cell_type": "markdown",
      "source": [
        "\n",
        "# Praktikum 2 Generator Teks dengan RNN\n",
        "setup"
      ],
      "metadata": {
        "id": "T7pmTOIOy8zi"
      }
    },
    {
      "cell_type": "code",
      "source": [
        "\n",
        "import tensorflow as tf\n",
        "import numpy as np\n",
        "import os\n",
        "import time"
      ],
      "metadata": {
        "id": "4eJlZmTYy8Yo"
      },
      "execution_count": 49,
      "outputs": []
    },
    {
      "cell_type": "code",
      "source": [
        "\n",
        "path_to_file = tf.keras.utils.get_file('shakespeare.txt', 'https://storage.googleapis.com/download.tensorflow.org/data/shakespeare.txt')"
      ],
      "metadata": {
        "colab": {
          "base_uri": "https://localhost:8080/"
        },
        "id": "QMWa81AqzFg7",
        "outputId": "e7252f78-3709-4a4e-f17a-a28bd0845331"
      },
      "execution_count": 50,
      "outputs": [
        {
          "output_type": "stream",
          "name": "stdout",
          "text": [
            "Downloading data from https://storage.googleapis.com/download.tensorflow.org/data/shakespeare.txt\n",
            "\u001b[1m1115394/1115394\u001b[0m \u001b[32m━━━━━━━━━━━━━━━━━━━━\u001b[0m\u001b[37m\u001b[0m \u001b[1m1s\u001b[0m 0us/step\n"
          ]
        }
      ]
    },
    {
      "cell_type": "markdown",
      "source": [
        "\n",
        "# Load Data"
      ],
      "metadata": {
        "id": "KoiTjqX82ENE"
      }
    },
    {
      "cell_type": "code",
      "source": [
        "# Read, then decode for py2 compat.\n",
        "text = open(path_to_file, 'rb').read().decode(encoding='utf-8')\n",
        "# length of text is the number of characters in it\n",
        "print(f'Length of text: {len(text)} characters')"
      ],
      "metadata": {
        "colab": {
          "base_uri": "https://localhost:8080/"
        },
        "id": "gdq2OnonzQJ7",
        "outputId": "3ef5e04d-3ca3-4d0e-edcb-2034c9477f63"
      },
      "execution_count": 51,
      "outputs": [
        {
          "output_type": "stream",
          "name": "stdout",
          "text": [
            "Length of text: 1115394 characters\n"
          ]
        }
      ]
    },
    {
      "cell_type": "code",
      "source": [
        "\n",
        "# Take a look at the first 250 characters in text\n",
        "print(text[:250])"
      ],
      "metadata": {
        "colab": {
          "base_uri": "https://localhost:8080/"
        },
        "id": "jqVSvV8xzSbv",
        "outputId": "c698fb06-a588-4f41-d369-67378ceb818a"
      },
      "execution_count": 52,
      "outputs": [
        {
          "output_type": "stream",
          "name": "stdout",
          "text": [
            "First Citizen:\n",
            "Before we proceed any further, hear me speak.\n",
            "\n",
            "All:\n",
            "Speak, speak.\n",
            "\n",
            "First Citizen:\n",
            "You are all resolved rather to die than to famish?\n",
            "\n",
            "All:\n",
            "Resolved. resolved.\n",
            "\n",
            "First Citizen:\n",
            "First, you know Caius Marcius is chief enemy to the people.\n",
            "\n"
          ]
        }
      ]
    },
    {
      "cell_type": "code",
      "source": [
        "\n",
        "# The unique characters in the file\n",
        "vocab = sorted(set(text))\n",
        "print(f'{len(vocab)} unique characters')"
      ],
      "metadata": {
        "colab": {
          "base_uri": "https://localhost:8080/"
        },
        "id": "qQ-gvCWXzVi6",
        "outputId": "3c56dd2c-9a86-4b31-a034-93b350144e24"
      },
      "execution_count": 53,
      "outputs": [
        {
          "output_type": "stream",
          "name": "stdout",
          "text": [
            "65 unique characters\n"
          ]
        }
      ]
    },
    {
      "cell_type": "markdown",
      "source": [
        "# Olah Teks\n",
        "\n",
        "### Vectorize Teks"
      ],
      "metadata": {
        "id": "rwesSvfl2LeK"
      }
    },
    {
      "cell_type": "code",
      "source": [
        "\n",
        "example_texts = ['abcdefg', 'xyz']\n",
        "chars = tf.strings.unicode_split(example_texts, input_encoding='UTF-8')\n",
        "chars"
      ],
      "metadata": {
        "colab": {
          "base_uri": "https://localhost:8080/"
        },
        "id": "JlIr-g1xzZDP",
        "outputId": "031967f5-a136-4f20-ac46-e56b8da0104f"
      },
      "execution_count": 54,
      "outputs": [
        {
          "output_type": "execute_result",
          "data": {
            "text/plain": [
              "<tf.RaggedTensor [[b'a', b'b', b'c', b'd', b'e', b'f', b'g'], [b'x', b'y', b'z']]>"
            ]
          },
          "metadata": {},
          "execution_count": 54
        }
      ]
    },
    {
      "cell_type": "code",
      "source": [
        "\n",
        "ids_from_chars = tf.keras.layers.StringLookup(\n",
        "vocabulary=list(vocab), mask_token=None)"
      ],
      "metadata": {
        "id": "rUgknR38zc7L"
      },
      "execution_count": 55,
      "outputs": []
    },
    {
      "cell_type": "code",
      "source": [
        "ids = ids_from_chars(chars)\n",
        "ids"
      ],
      "metadata": {
        "colab": {
          "base_uri": "https://localhost:8080/"
        },
        "id": "ydSGwf9mzf-B",
        "outputId": "f2bcaeaf-0078-46ff-f2e8-6caf709d89eb"
      },
      "execution_count": 56,
      "outputs": [
        {
          "output_type": "execute_result",
          "data": {
            "text/plain": [
              "<tf.RaggedTensor [[40, 41, 42, 43, 44, 45, 46], [63, 64, 65]]>"
            ]
          },
          "metadata": {},
          "execution_count": 56
        }
      ]
    },
    {
      "cell_type": "code",
      "source": [
        "\n",
        "chars_from_ids = tf.keras.layers.StringLookup(\n",
        "    vocabulary=ids_from_chars.get_vocabulary(), invert=True, mask_token=None)"
      ],
      "metadata": {
        "id": "wSf9BY85zglh"
      },
      "execution_count": 57,
      "outputs": []
    },
    {
      "cell_type": "code",
      "source": [
        "chars = chars_from_ids(ids)\n",
        "chars"
      ],
      "metadata": {
        "colab": {
          "base_uri": "https://localhost:8080/"
        },
        "id": "Gt--tgD5zjtP",
        "outputId": "3afe4e85-f8a9-40e7-96e2-9caec3b88cd1"
      },
      "execution_count": 58,
      "outputs": [
        {
          "output_type": "execute_result",
          "data": {
            "text/plain": [
              "<tf.RaggedTensor [[b'a', b'b', b'c', b'd', b'e', b'f', b'g'], [b'x', b'y', b'z']]>"
            ]
          },
          "metadata": {},
          "execution_count": 58
        }
      ]
    },
    {
      "cell_type": "code",
      "source": [
        "\n",
        "tf.strings.reduce_join(chars, axis=-1).numpy()"
      ],
      "metadata": {
        "colab": {
          "base_uri": "https://localhost:8080/"
        },
        "id": "hrVrlg3lzmEf",
        "outputId": "f22b10eb-1ae8-4d55-ec17-5e698e08c043"
      },
      "execution_count": 59,
      "outputs": [
        {
          "output_type": "execute_result",
          "data": {
            "text/plain": [
              "array([b'abcdefg', b'xyz'], dtype=object)"
            ]
          },
          "metadata": {},
          "execution_count": 59
        }
      ]
    },
    {
      "cell_type": "code",
      "source": [
        "def text_from_ids(ids):\n",
        "    return tf.strings.reduce_join(chars_from_ids(ids), axis=-1)"
      ],
      "metadata": {
        "id": "mVlll63Yzpnc"
      },
      "execution_count": 60,
      "outputs": []
    },
    {
      "cell_type": "markdown",
      "source": [
        "# Prediksi\n",
        "Membuat Trianing Set dan Target"
      ],
      "metadata": {
        "id": "jhxvL2eC2cFj"
      }
    },
    {
      "cell_type": "code",
      "source": [
        "\n",
        "all_ids = ids_from_chars(tf.strings.unicode_split(text, 'UTF-8'))\n",
        "all_ids"
      ],
      "metadata": {
        "colab": {
          "base_uri": "https://localhost:8080/"
        },
        "id": "W191P-EIzqDx",
        "outputId": "342228ea-9ed2-4c8b-88e9-9884a5ca5e04"
      },
      "execution_count": 61,
      "outputs": [
        {
          "output_type": "execute_result",
          "data": {
            "text/plain": [
              "<tf.Tensor: shape=(1115394,), dtype=int64, numpy=array([19, 48, 57, ..., 46,  9,  1])>"
            ]
          },
          "metadata": {},
          "execution_count": 61
        }
      ]
    },
    {
      "cell_type": "code",
      "source": [
        "ids_dataset = tf.data.Dataset.from_tensor_slices(all_ids)"
      ],
      "metadata": {
        "id": "8n8srAmeztT_"
      },
      "execution_count": 62,
      "outputs": []
    },
    {
      "cell_type": "code",
      "source": [
        "\n",
        "for ids in ids_dataset.take(10):\n",
        "    print(chars_from_ids(ids).numpy().decode('utf-8'))"
      ],
      "metadata": {
        "colab": {
          "base_uri": "https://localhost:8080/"
        },
        "id": "o9rl8-xdzuhd",
        "outputId": "b7d97bb3-e002-4fc5-ea53-8220e4b277fe"
      },
      "execution_count": 63,
      "outputs": [
        {
          "output_type": "stream",
          "name": "stdout",
          "text": [
            "F\n",
            "i\n",
            "r\n",
            "s\n",
            "t\n",
            " \n",
            "C\n",
            "i\n",
            "t\n",
            "i\n"
          ]
        }
      ]
    },
    {
      "cell_type": "code",
      "source": [
        "\n",
        "seq_length = 100"
      ],
      "metadata": {
        "id": "OIv163s6zwzi"
      },
      "execution_count": 64,
      "outputs": []
    },
    {
      "cell_type": "code",
      "source": [
        "\n",
        "sequences = ids_dataset.batch(seq_length+1, drop_remainder=True)\n",
        "\n",
        "for seq in sequences.take(1):\n",
        "  print(chars_from_ids(seq))"
      ],
      "metadata": {
        "colab": {
          "base_uri": "https://localhost:8080/"
        },
        "id": "beeDT32dz0aS",
        "outputId": "175d721e-6e26-4ad1-8f48-293aa8f8a894"
      },
      "execution_count": 65,
      "outputs": [
        {
          "output_type": "stream",
          "name": "stdout",
          "text": [
            "tf.Tensor(\n",
            "[b'F' b'i' b'r' b's' b't' b' ' b'C' b'i' b't' b'i' b'z' b'e' b'n' b':'\n",
            " b'\\n' b'B' b'e' b'f' b'o' b'r' b'e' b' ' b'w' b'e' b' ' b'p' b'r' b'o'\n",
            " b'c' b'e' b'e' b'd' b' ' b'a' b'n' b'y' b' ' b'f' b'u' b'r' b't' b'h'\n",
            " b'e' b'r' b',' b' ' b'h' b'e' b'a' b'r' b' ' b'm' b'e' b' ' b's' b'p'\n",
            " b'e' b'a' b'k' b'.' b'\\n' b'\\n' b'A' b'l' b'l' b':' b'\\n' b'S' b'p' b'e'\n",
            " b'a' b'k' b',' b' ' b's' b'p' b'e' b'a' b'k' b'.' b'\\n' b'\\n' b'F' b'i'\n",
            " b'r' b's' b't' b' ' b'C' b'i' b't' b'i' b'z' b'e' b'n' b':' b'\\n' b'Y'\n",
            " b'o' b'u' b' '], shape=(101,), dtype=string)\n"
          ]
        }
      ]
    },
    {
      "cell_type": "code",
      "source": [
        "for seq in sequences.take(5):\n",
        "    print(text_from_ids(seq).numpy())"
      ],
      "metadata": {
        "colab": {
          "base_uri": "https://localhost:8080/"
        },
        "id": "idreZwmmz1Eg",
        "outputId": "b06c4fbc-22eb-45b7-d122-80dead2a4700"
      },
      "execution_count": 66,
      "outputs": [
        {
          "output_type": "stream",
          "name": "stdout",
          "text": [
            "b'First Citizen:\\nBefore we proceed any further, hear me speak.\\n\\nAll:\\nSpeak, speak.\\n\\nFirst Citizen:\\nYou '\n",
            "b'are all resolved rather to die than to famish?\\n\\nAll:\\nResolved. resolved.\\n\\nFirst Citizen:\\nFirst, you k'\n",
            "b\"now Caius Marcius is chief enemy to the people.\\n\\nAll:\\nWe know't, we know't.\\n\\nFirst Citizen:\\nLet us ki\"\n",
            "b\"ll him, and we'll have corn at our own price.\\nIs't a verdict?\\n\\nAll:\\nNo more talking on't; let it be d\"\n",
            "b'one: away, away!\\n\\nSecond Citizen:\\nOne word, good citizens.\\n\\nFirst Citizen:\\nWe are accounted poor citi'\n"
          ]
        }
      ]
    },
    {
      "cell_type": "code",
      "source": [
        "\n",
        "def split_input_target(sequence):\n",
        "    input_text = sequence[:-1]\n",
        "    target_text = sequence[1:]\n",
        "    return input_text, target_text"
      ],
      "metadata": {
        "id": "D3n9gC5Lz3jO"
      },
      "execution_count": 67,
      "outputs": []
    },
    {
      "cell_type": "code",
      "source": [
        "split_input_target(list(\"Tensorflow\"))"
      ],
      "metadata": {
        "colab": {
          "base_uri": "https://localhost:8080/"
        },
        "id": "rZToUBn6z5QK",
        "outputId": "1c2045ee-5081-4a8c-c81f-33f58c8b92e9"
      },
      "execution_count": 68,
      "outputs": [
        {
          "output_type": "execute_result",
          "data": {
            "text/plain": [
              "(['T', 'e', 'n', 's', 'o', 'r', 'f', 'l', 'o'],\n",
              " ['e', 'n', 's', 'o', 'r', 'f', 'l', 'o', 'w'])"
            ]
          },
          "metadata": {},
          "execution_count": 68
        }
      ]
    },
    {
      "cell_type": "code",
      "source": [
        "dataset = sequences.map(split_input_target)\n"
      ],
      "metadata": {
        "id": "hIPksaTez60Z"
      },
      "execution_count": 69,
      "outputs": []
    },
    {
      "cell_type": "code",
      "source": [
        "for input_example, target_example in dataset.take(1):\n",
        "    print(\"Input :\", text_from_ids(input_example).numpy())\n",
        "    print(\"Target:\", text_from_ids(target_example).numpy())"
      ],
      "metadata": {
        "colab": {
          "base_uri": "https://localhost:8080/"
        },
        "id": "jZGtNgMFz8e7",
        "outputId": "05cfc267-7519-47b0-f1a5-06fa2591519e"
      },
      "execution_count": 70,
      "outputs": [
        {
          "output_type": "stream",
          "name": "stdout",
          "text": [
            "Input : b'First Citizen:\\nBefore we proceed any further, hear me speak.\\n\\nAll:\\nSpeak, speak.\\n\\nFirst Citizen:\\nYou'\n",
            "Target: b'irst Citizen:\\nBefore we proceed any further, hear me speak.\\n\\nAll:\\nSpeak, speak.\\n\\nFirst Citizen:\\nYou '\n"
          ]
        }
      ]
    },
    {
      "cell_type": "markdown",
      "source": [
        "# Membuat Batch Training"
      ],
      "metadata": {
        "id": "kLDuzT8J2iUd"
      }
    },
    {
      "cell_type": "code",
      "source": [
        "\n",
        "# Batch size\n",
        "BATCH_SIZE = 64\n",
        "\n",
        "# Buffer size to shuffle the dataset\n",
        "# (TF data is designed to work with possibly infinite sequences,\n",
        "# so it doesn't attempt to shuffle the entire sequence in memory. Instead,\n",
        "# it maintains a buffer in which it shuffles elements).\n",
        "BUFFER_SIZE = 10000\n",
        "\n",
        "dataset = (\n",
        "    dataset\n",
        "    .shuffle(BUFFER_SIZE)\n",
        "    .batch(BATCH_SIZE, drop_remainder=True)\n",
        "    .prefetch(tf.data.experimental.AUTOTUNE))\n",
        "\n",
        "dataset"
      ],
      "metadata": {
        "colab": {
          "base_uri": "https://localhost:8080/"
        },
        "id": "phswIze4z9HS",
        "outputId": "1fe3a6c8-a788-4da3-9bd1-23caca2e148e"
      },
      "execution_count": 71,
      "outputs": [
        {
          "output_type": "execute_result",
          "data": {
            "text/plain": [
              "<_PrefetchDataset element_spec=(TensorSpec(shape=(64, 100), dtype=tf.int64, name=None), TensorSpec(shape=(64, 100), dtype=tf.int64, name=None))>"
            ]
          },
          "metadata": {},
          "execution_count": 71
        }
      ]
    },
    {
      "cell_type": "markdown",
      "source": [
        "# Buat Model"
      ],
      "metadata": {
        "id": "qywjf5eJ0Bzc"
      }
    },
    {
      "cell_type": "markdown",
      "source": [
        "\n",
        "# Buat Model"
      ],
      "metadata": {
        "id": "ewoBc7Sb2knS"
      }
    },
    {
      "cell_type": "code",
      "source": [
        "\n",
        "# Length of the vocabulary in StringLookup Layer\n",
        "vocab_size = len(ids_from_chars.get_vocabulary())\n",
        "\n",
        "# The embedding dimension\n",
        "embedding_dim = 256\n",
        "\n",
        "# Number of RNN units\n",
        "rnn_units = 1024"
      ],
      "metadata": {
        "id": "PBesR8kXz_jl"
      },
      "execution_count": 72,
      "outputs": []
    },
    {
      "source": [
        "class MyModel(tf.keras.Model):\n",
        "  def __init__(self, vocab_size, embedding_dim, rnn_units):\n",
        "    # Remove 'self' from super().__init__() call\n",
        "    super().__init__()\n",
        "    self.embedding = tf.keras.layers.Embedding(vocab_size, embedding_dim)\n",
        "    self.gru = tf.keras.layers.GRU(rnn_units,\n",
        "                                   return_sequences=True,\n",
        "                                   return_state=True)\n",
        "    self.dense = tf.keras.layers.Dense(vocab_size)\n",
        "\n",
        "  def call(self, inputs, states=None, return_state=False, training=False):\n",
        "    x = inputs\n",
        "    x = self.embedding(x, training=training)\n",
        "    if states is None:\n",
        "      states = self.gru.get_initial_state(x)\n",
        "    x, states = self.gru(x, initial_state=states, training=training)\n",
        "    x = self.dense(x, training=training)\n",
        "\n",
        "    if return_state:\n",
        "      return x, states\n",
        "    else:\n",
        "      return x"
      ],
      "cell_type": "code",
      "metadata": {
        "id": "X0jiD3Rev2PB"
      },
      "execution_count": 113,
      "outputs": []
    },
    {
      "cell_type": "code",
      "source": [
        "model = MyModel(\n",
        "    vocab_size=vocab_size,\n",
        "    embedding_dim=embedding_dim,\n",
        "    rnn_units=rnn_units)"
      ],
      "metadata": {
        "id": "XVwBE-_P0Ip2"
      },
      "execution_count": 114,
      "outputs": []
    },
    {
      "cell_type": "markdown",
      "source": [
        "\n",
        "# Tugas"
      ],
      "metadata": {
        "id": "TAnrHt0g0LqR"
      }
    },
    {
      "cell_type": "markdown",
      "source": [
        "Prosedur pelatihan pada praktikum 2 merupakan prosedur sederhana, yang tidak memberi Anda banyak kendali. Model ini menggunakan \"teacher-forcing\" yang mencegah prediksi buruk diumpankan kembali ke model, sehingga model tidak pernah belajar untuk pulih dari kesalahan. Jadi, setelah Anda melihat cara menjalankan model secara manual, selanjutnya Anda akan mengimplementasikan custom loop pelatihan. Hal ini memberikan titik awal jika, misalnya, Anda ingin menerapkan pembelajaran kurikulum untuk membantu menstabilkan keluaran open-loop model. Bagian terpenting dari loop pelatihan khusus adalah fungsi langkah pelatihan.\n",
        "\n",
        "Gunakan tf.GradientTape untuk men track nilai gradient. Anda dapat mempelajari lebih lanjut tentang pendekatan ini dengan membaca eager execution guide.\n",
        "\n",
        "Prosedurnya adalah :\n",
        "\n",
        "1. Jalankan Model dan hitung loss dengan tf GradientTape.\n",
        "2. Hitung update dan terapkan pada model dengan optimizer"
      ],
      "metadata": {
        "id": "P1cBhDgE2pfT"
      }
    },
    {
      "cell_type": "code",
      "source": [
        "class CustomTraining(MyModel):\n",
        "  @tf.function\n",
        "  def train_step(self, inputs):\n",
        "    inputs, labels = inputs\n",
        "    with tf.GradientTape() as tape:\n",
        "      predictions = self(inputs, training=True)\n",
        "      loss = self.loss(labels, predictions)\n",
        "      grads = tape.gradient(loss, model.trainable_variables)\n",
        "      self.optimizer.apply_gradients(zip(grads, model.trainable_variables))\n",
        "\n",
        "      return {'loss': loss}"
      ],
      "metadata": {
        "id": "cDwXH0eU0Kb7"
      },
      "execution_count": 147,
      "outputs": []
    },
    {
      "cell_type": "markdown",
      "source": [],
      "metadata": {
        "id": "cbR0pd0r2_1w"
      }
    },
    {
      "cell_type": "code",
      "source": [
        "model = CustomTraining(\n",
        "    vocab_size=len(ids_from_chars.get_vocabulary()),\n",
        "    embedding_dim=embedding_dim,\n",
        "    rnn_units=rnn_units)"
      ],
      "metadata": {
        "id": "dFUUr_xL3CT4"
      },
      "execution_count": 148,
      "outputs": []
    },
    {
      "cell_type": "code",
      "source": [
        "model.compile(optimizer = tf.keras.optimizers.Adam(), loss=tf.keras.losses.SparseCategoricalCrossentropy(from_logits=True))\n",
        ""
      ],
      "metadata": {
        "id": "y7Du85gb3Daa"
      },
      "execution_count": 149,
      "outputs": []
    },
    {
      "cell_type": "code",
      "source": [
        "model.fit(dataset, epochs=1)"
      ],
      "metadata": {
        "id": "UcJt-2M8zvR1"
      },
      "execution_count": null,
      "outputs": []
    },
    {
      "source": [
        "import tensorflow as tf\n",
        "import time\n",
        "\n",
        "\n",
        "EPOCHS = 10\n",
        "\n",
        "# Instead of using tf.metrics.Mean, use a simple variable to store the running sum and count\n",
        "total_loss = 0.0\n",
        "num_batches = 0\n",
        "\n",
        "for epoch in range(EPOCHS):\n",
        "  start = time.time()\n",
        "\n",
        "  # Reset the running sum and count at the beginning of each epoch\n",
        "  total_loss = 0.0\n",
        "  num_batches = 0\n",
        "  for (batch_n, (inp, target)) in enumerate(dataset):\n",
        "    logs = model.train_step([inp, target])\n",
        "\n",
        "    # Check if logs is not None and has the 'loss' key\n",
        "    if logs is not None and 'loss' in logs:\n",
        "      total_loss += logs['loss']  # Accumulate the loss\n",
        "    else:\n",
        "      print(f\"Warning: train_step did not return expected logs for batch {batch_n} in epoch {epoch + 1}. logs: {logs}\")\n",
        "\n",
        "    num_batches += 1  # Increment the batch count\n",
        "\n",
        "    if batch_n % 50 == 0:\n",
        "      # Handle the case where logs might be None or missing 'loss'\n",
        "      # Check if 'loss' is in logs and it's a number before formatting\n",
        "      if logs is not None and 'loss' in logs and isinstance(logs['loss'], (int, float)):\n",
        "        loss_value = logs['loss']\n",
        "        template = f\"Epoch {epoch+1} Batch {batch_n} Loss {loss_value:.4f}\"\n",
        "      else:\n",
        "        template = f\"Epoch {epoch+1} Batch {batch_n} Loss N/A\" # Use a separate template for non-numeric loss\n",
        "      print(template)\n",
        "\n",
        "  # Calculate the mean loss for the epoch\n",
        "  mean_loss = total_loss / num_batches if num_batches > 0 else 0.0\n",
        "\n",
        "  # saving (checkpoint) the model every 5 epochs\n",
        "  if (epoch + 1) % 5 == 0:\n",
        "    model.save_weights(checkpoint_prefix.format(epoch=epoch))\n",
        "\n",
        "  print()\n",
        "  print(f'Epoch {epoch+1} Loss: {mean_loss:.4f}')  # Print the calculated mean loss\n",
        "  print(f'Time taken for 1 epoch {time.time() - start:.2f} sec')\n",
        "  print(\"_\"*80)\n",
        "\n",
        "model.save_weights(checkpoint_prefix.format(epoch=epoch))"
      ],
      "cell_type": "code",
      "metadata": {
        "colab": {
          "base_uri": "https://localhost:8080/",
          "height": 1000
        },
        "id": "DV3PvwJW2G08",
        "outputId": "15f64422-eed9-471e-bae8-f29d2dd85876"
      },
      "execution_count": 158,
      "outputs": [
        {
          "output_type": "stream",
          "name": "stdout",
          "text": [
            "Warning: train_step did not return expected logs for batch 0 in epoch 1. logs: None\n",
            "Epoch 1 Batch 0 Loss N/A\n",
            "Warning: train_step did not return expected logs for batch 1 in epoch 1. logs: None\n",
            "Warning: train_step did not return expected logs for batch 2 in epoch 1. logs: None\n",
            "Warning: train_step did not return expected logs for batch 3 in epoch 1. logs: None\n",
            "Warning: train_step did not return expected logs for batch 4 in epoch 1. logs: None\n",
            "Warning: train_step did not return expected logs for batch 5 in epoch 1. logs: None\n",
            "Warning: train_step did not return expected logs for batch 6 in epoch 1. logs: None\n",
            "Warning: train_step did not return expected logs for batch 7 in epoch 1. logs: None\n",
            "Warning: train_step did not return expected logs for batch 8 in epoch 1. logs: None\n",
            "Warning: train_step did not return expected logs for batch 9 in epoch 1. logs: None\n",
            "Warning: train_step did not return expected logs for batch 10 in epoch 1. logs: None\n",
            "Warning: train_step did not return expected logs for batch 11 in epoch 1. logs: None\n",
            "Warning: train_step did not return expected logs for batch 12 in epoch 1. logs: None\n",
            "Warning: train_step did not return expected logs for batch 13 in epoch 1. logs: None\n",
            "Warning: train_step did not return expected logs for batch 14 in epoch 1. logs: None\n",
            "Warning: train_step did not return expected logs for batch 15 in epoch 1. logs: None\n",
            "Warning: train_step did not return expected logs for batch 16 in epoch 1. logs: None\n",
            "Warning: train_step did not return expected logs for batch 17 in epoch 1. logs: None\n",
            "Warning: train_step did not return expected logs for batch 18 in epoch 1. logs: None\n",
            "Warning: train_step did not return expected logs for batch 19 in epoch 1. logs: None\n",
            "Warning: train_step did not return expected logs for batch 20 in epoch 1. logs: None\n",
            "Warning: train_step did not return expected logs for batch 21 in epoch 1. logs: None\n",
            "Warning: train_step did not return expected logs for batch 22 in epoch 1. logs: None\n",
            "Warning: train_step did not return expected logs for batch 23 in epoch 1. logs: None\n",
            "Warning: train_step did not return expected logs for batch 24 in epoch 1. logs: None\n",
            "Warning: train_step did not return expected logs for batch 25 in epoch 1. logs: None\n",
            "Warning: train_step did not return expected logs for batch 26 in epoch 1. logs: None\n",
            "Warning: train_step did not return expected logs for batch 27 in epoch 1. logs: None\n",
            "Warning: train_step did not return expected logs for batch 28 in epoch 1. logs: None\n",
            "Warning: train_step did not return expected logs for batch 29 in epoch 1. logs: None\n",
            "Warning: train_step did not return expected logs for batch 30 in epoch 1. logs: None\n",
            "Warning: train_step did not return expected logs for batch 31 in epoch 1. logs: None\n",
            "Warning: train_step did not return expected logs for batch 32 in epoch 1. logs: None\n",
            "Warning: train_step did not return expected logs for batch 33 in epoch 1. logs: None\n",
            "Warning: train_step did not return expected logs for batch 34 in epoch 1. logs: None\n",
            "Warning: train_step did not return expected logs for batch 35 in epoch 1. logs: None\n",
            "Warning: train_step did not return expected logs for batch 36 in epoch 1. logs: None\n",
            "Warning: train_step did not return expected logs for batch 37 in epoch 1. logs: None\n",
            "Warning: train_step did not return expected logs for batch 38 in epoch 1. logs: None\n",
            "Warning: train_step did not return expected logs for batch 39 in epoch 1. logs: None\n",
            "Warning: train_step did not return expected logs for batch 40 in epoch 1. logs: None\n",
            "Warning: train_step did not return expected logs for batch 41 in epoch 1. logs: None\n",
            "Warning: train_step did not return expected logs for batch 42 in epoch 1. logs: None\n",
            "Warning: train_step did not return expected logs for batch 43 in epoch 1. logs: None\n",
            "Warning: train_step did not return expected logs for batch 44 in epoch 1. logs: None\n",
            "Warning: train_step did not return expected logs for batch 45 in epoch 1. logs: None\n",
            "Warning: train_step did not return expected logs for batch 46 in epoch 1. logs: None\n",
            "Warning: train_step did not return expected logs for batch 47 in epoch 1. logs: None\n",
            "Warning: train_step did not return expected logs for batch 48 in epoch 1. logs: None\n",
            "Warning: train_step did not return expected logs for batch 49 in epoch 1. logs: None\n",
            "Warning: train_step did not return expected logs for batch 50 in epoch 1. logs: None\n",
            "Epoch 1 Batch 50 Loss N/A\n",
            "Warning: train_step did not return expected logs for batch 51 in epoch 1. logs: None\n",
            "Warning: train_step did not return expected logs for batch 52 in epoch 1. logs: None\n",
            "Warning: train_step did not return expected logs for batch 53 in epoch 1. logs: None\n",
            "Warning: train_step did not return expected logs for batch 54 in epoch 1. logs: None\n",
            "Warning: train_step did not return expected logs for batch 55 in epoch 1. logs: None\n",
            "Warning: train_step did not return expected logs for batch 56 in epoch 1. logs: None\n",
            "Warning: train_step did not return expected logs for batch 57 in epoch 1. logs: None\n",
            "Warning: train_step did not return expected logs for batch 58 in epoch 1. logs: None\n",
            "Warning: train_step did not return expected logs for batch 59 in epoch 1. logs: None\n",
            "Warning: train_step did not return expected logs for batch 60 in epoch 1. logs: None\n",
            "Warning: train_step did not return expected logs for batch 61 in epoch 1. logs: None\n",
            "Warning: train_step did not return expected logs for batch 62 in epoch 1. logs: None\n",
            "Warning: train_step did not return expected logs for batch 63 in epoch 1. logs: None\n",
            "Warning: train_step did not return expected logs for batch 64 in epoch 1. logs: None\n",
            "Warning: train_step did not return expected logs for batch 65 in epoch 1. logs: None\n",
            "Warning: train_step did not return expected logs for batch 66 in epoch 1. logs: None\n",
            "Warning: train_step did not return expected logs for batch 67 in epoch 1. logs: None\n",
            "Warning: train_step did not return expected logs for batch 68 in epoch 1. logs: None\n",
            "Warning: train_step did not return expected logs for batch 69 in epoch 1. logs: None\n",
            "Warning: train_step did not return expected logs for batch 70 in epoch 1. logs: None\n",
            "Warning: train_step did not return expected logs for batch 71 in epoch 1. logs: None\n",
            "Warning: train_step did not return expected logs for batch 72 in epoch 1. logs: None\n",
            "Warning: train_step did not return expected logs for batch 73 in epoch 1. logs: None\n",
            "Warning: train_step did not return expected logs for batch 74 in epoch 1. logs: None\n",
            "Warning: train_step did not return expected logs for batch 75 in epoch 1. logs: None\n",
            "Warning: train_step did not return expected logs for batch 76 in epoch 1. logs: None\n",
            "Warning: train_step did not return expected logs for batch 77 in epoch 1. logs: None\n",
            "Warning: train_step did not return expected logs for batch 78 in epoch 1. logs: None\n",
            "Warning: train_step did not return expected logs for batch 79 in epoch 1. logs: None\n",
            "Warning: train_step did not return expected logs for batch 80 in epoch 1. logs: None\n",
            "Warning: train_step did not return expected logs for batch 81 in epoch 1. logs: None\n",
            "Warning: train_step did not return expected logs for batch 82 in epoch 1. logs: None\n",
            "Warning: train_step did not return expected logs for batch 83 in epoch 1. logs: None\n",
            "Warning: train_step did not return expected logs for batch 84 in epoch 1. logs: None\n",
            "Warning: train_step did not return expected logs for batch 85 in epoch 1. logs: None\n",
            "Warning: train_step did not return expected logs for batch 86 in epoch 1. logs: None\n",
            "Warning: train_step did not return expected logs for batch 87 in epoch 1. logs: None\n",
            "Warning: train_step did not return expected logs for batch 88 in epoch 1. logs: None\n",
            "Warning: train_step did not return expected logs for batch 89 in epoch 1. logs: None\n",
            "Warning: train_step did not return expected logs for batch 90 in epoch 1. logs: None\n",
            "Warning: train_step did not return expected logs for batch 91 in epoch 1. logs: None\n",
            "Warning: train_step did not return expected logs for batch 92 in epoch 1. logs: None\n",
            "Warning: train_step did not return expected logs for batch 93 in epoch 1. logs: None\n",
            "Warning: train_step did not return expected logs for batch 94 in epoch 1. logs: None\n",
            "Warning: train_step did not return expected logs for batch 95 in epoch 1. logs: None\n",
            "Warning: train_step did not return expected logs for batch 96 in epoch 1. logs: None\n",
            "Warning: train_step did not return expected logs for batch 97 in epoch 1. logs: None\n",
            "Warning: train_step did not return expected logs for batch 98 in epoch 1. logs: None\n",
            "Warning: train_step did not return expected logs for batch 99 in epoch 1. logs: None\n",
            "Warning: train_step did not return expected logs for batch 100 in epoch 1. logs: None\n",
            "Epoch 1 Batch 100 Loss N/A\n",
            "Warning: train_step did not return expected logs for batch 101 in epoch 1. logs: None\n",
            "Warning: train_step did not return expected logs for batch 102 in epoch 1. logs: None\n",
            "Warning: train_step did not return expected logs for batch 103 in epoch 1. logs: None\n",
            "Warning: train_step did not return expected logs for batch 104 in epoch 1. logs: None\n",
            "Warning: train_step did not return expected logs for batch 105 in epoch 1. logs: None\n",
            "Warning: train_step did not return expected logs for batch 106 in epoch 1. logs: None\n",
            "Warning: train_step did not return expected logs for batch 107 in epoch 1. logs: None\n",
            "Warning: train_step did not return expected logs for batch 108 in epoch 1. logs: None\n",
            "Warning: train_step did not return expected logs for batch 109 in epoch 1. logs: None\n",
            "Warning: train_step did not return expected logs for batch 110 in epoch 1. logs: None\n",
            "Warning: train_step did not return expected logs for batch 111 in epoch 1. logs: None\n",
            "Warning: train_step did not return expected logs for batch 112 in epoch 1. logs: None\n",
            "Warning: train_step did not return expected logs for batch 113 in epoch 1. logs: None\n",
            "Warning: train_step did not return expected logs for batch 114 in epoch 1. logs: None\n",
            "Warning: train_step did not return expected logs for batch 115 in epoch 1. logs: None\n",
            "Warning: train_step did not return expected logs for batch 116 in epoch 1. logs: None\n",
            "Warning: train_step did not return expected logs for batch 117 in epoch 1. logs: None\n",
            "Warning: train_step did not return expected logs for batch 118 in epoch 1. logs: None\n",
            "Warning: train_step did not return expected logs for batch 119 in epoch 1. logs: None\n",
            "Warning: train_step did not return expected logs for batch 120 in epoch 1. logs: None\n",
            "Warning: train_step did not return expected logs for batch 121 in epoch 1. logs: None\n",
            "Warning: train_step did not return expected logs for batch 122 in epoch 1. logs: None\n",
            "Warning: train_step did not return expected logs for batch 123 in epoch 1. logs: None\n",
            "Warning: train_step did not return expected logs for batch 124 in epoch 1. logs: None\n",
            "Warning: train_step did not return expected logs for batch 125 in epoch 1. logs: None\n",
            "Warning: train_step did not return expected logs for batch 126 in epoch 1. logs: None\n",
            "Warning: train_step did not return expected logs for batch 127 in epoch 1. logs: None\n",
            "Warning: train_step did not return expected logs for batch 128 in epoch 1. logs: None\n",
            "Warning: train_step did not return expected logs for batch 129 in epoch 1. logs: None\n",
            "Warning: train_step did not return expected logs for batch 130 in epoch 1. logs: None\n",
            "Warning: train_step did not return expected logs for batch 131 in epoch 1. logs: None\n",
            "Warning: train_step did not return expected logs for batch 132 in epoch 1. logs: None\n",
            "Warning: train_step did not return expected logs for batch 133 in epoch 1. logs: None\n",
            "Warning: train_step did not return expected logs for batch 134 in epoch 1. logs: None\n",
            "Warning: train_step did not return expected logs for batch 135 in epoch 1. logs: None\n",
            "Warning: train_step did not return expected logs for batch 136 in epoch 1. logs: None\n",
            "Warning: train_step did not return expected logs for batch 137 in epoch 1. logs: None\n",
            "Warning: train_step did not return expected logs for batch 138 in epoch 1. logs: None\n",
            "Warning: train_step did not return expected logs for batch 139 in epoch 1. logs: None\n",
            "Warning: train_step did not return expected logs for batch 140 in epoch 1. logs: None\n",
            "Warning: train_step did not return expected logs for batch 141 in epoch 1. logs: None\n",
            "Warning: train_step did not return expected logs for batch 142 in epoch 1. logs: None\n",
            "Warning: train_step did not return expected logs for batch 143 in epoch 1. logs: None\n",
            "Warning: train_step did not return expected logs for batch 144 in epoch 1. logs: None\n",
            "Warning: train_step did not return expected logs for batch 145 in epoch 1. logs: None\n",
            "Warning: train_step did not return expected logs for batch 146 in epoch 1. logs: None\n",
            "Warning: train_step did not return expected logs for batch 147 in epoch 1. logs: None\n",
            "Warning: train_step did not return expected logs for batch 148 in epoch 1. logs: None\n",
            "Warning: train_step did not return expected logs for batch 149 in epoch 1. logs: None\n",
            "Warning: train_step did not return expected logs for batch 150 in epoch 1. logs: None\n",
            "Epoch 1 Batch 150 Loss N/A\n",
            "Warning: train_step did not return expected logs for batch 151 in epoch 1. logs: None\n",
            "Warning: train_step did not return expected logs for batch 152 in epoch 1. logs: None\n",
            "Warning: train_step did not return expected logs for batch 153 in epoch 1. logs: None\n",
            "Warning: train_step did not return expected logs for batch 154 in epoch 1. logs: None\n",
            "Warning: train_step did not return expected logs for batch 155 in epoch 1. logs: None\n",
            "Warning: train_step did not return expected logs for batch 156 in epoch 1. logs: None\n",
            "Warning: train_step did not return expected logs for batch 157 in epoch 1. logs: None\n",
            "Warning: train_step did not return expected logs for batch 158 in epoch 1. logs: None\n",
            "Warning: train_step did not return expected logs for batch 159 in epoch 1. logs: None\n",
            "Warning: train_step did not return expected logs for batch 160 in epoch 1. logs: None\n",
            "Warning: train_step did not return expected logs for batch 161 in epoch 1. logs: None\n",
            "Warning: train_step did not return expected logs for batch 162 in epoch 1. logs: None\n",
            "Warning: train_step did not return expected logs for batch 163 in epoch 1. logs: None\n",
            "Warning: train_step did not return expected logs for batch 164 in epoch 1. logs: None\n",
            "Warning: train_step did not return expected logs for batch 165 in epoch 1. logs: None\n",
            "Warning: train_step did not return expected logs for batch 166 in epoch 1. logs: None\n",
            "Warning: train_step did not return expected logs for batch 167 in epoch 1. logs: None\n",
            "Warning: train_step did not return expected logs for batch 168 in epoch 1. logs: None\n",
            "Warning: train_step did not return expected logs for batch 169 in epoch 1. logs: None\n",
            "Warning: train_step did not return expected logs for batch 170 in epoch 1. logs: None\n",
            "Warning: train_step did not return expected logs for batch 171 in epoch 1. logs: None\n",
            "\n",
            "Epoch 1 Loss: 0.0000\n",
            "Time taken for 1 epoch 4.14 sec\n",
            "________________________________________________________________________________\n",
            "Warning: train_step did not return expected logs for batch 0 in epoch 2. logs: None\n",
            "Epoch 2 Batch 0 Loss N/A\n",
            "Warning: train_step did not return expected logs for batch 1 in epoch 2. logs: None\n",
            "Warning: train_step did not return expected logs for batch 2 in epoch 2. logs: None\n",
            "Warning: train_step did not return expected logs for batch 3 in epoch 2. logs: None\n",
            "Warning: train_step did not return expected logs for batch 4 in epoch 2. logs: None\n",
            "Warning: train_step did not return expected logs for batch 5 in epoch 2. logs: None\n",
            "Warning: train_step did not return expected logs for batch 6 in epoch 2. logs: None\n",
            "Warning: train_step did not return expected logs for batch 7 in epoch 2. logs: None\n",
            "Warning: train_step did not return expected logs for batch 8 in epoch 2. logs: None\n",
            "Warning: train_step did not return expected logs for batch 9 in epoch 2. logs: None\n",
            "Warning: train_step did not return expected logs for batch 10 in epoch 2. logs: None\n",
            "Warning: train_step did not return expected logs for batch 11 in epoch 2. logs: None\n",
            "Warning: train_step did not return expected logs for batch 12 in epoch 2. logs: None\n",
            "Warning: train_step did not return expected logs for batch 13 in epoch 2. logs: None\n",
            "Warning: train_step did not return expected logs for batch 14 in epoch 2. logs: None\n",
            "Warning: train_step did not return expected logs for batch 15 in epoch 2. logs: None\n",
            "Warning: train_step did not return expected logs for batch 16 in epoch 2. logs: None\n",
            "Warning: train_step did not return expected logs for batch 17 in epoch 2. logs: None\n",
            "Warning: train_step did not return expected logs for batch 18 in epoch 2. logs: None\n",
            "Warning: train_step did not return expected logs for batch 19 in epoch 2. logs: None\n",
            "Warning: train_step did not return expected logs for batch 20 in epoch 2. logs: None\n",
            "Warning: train_step did not return expected logs for batch 21 in epoch 2. logs: None\n",
            "Warning: train_step did not return expected logs for batch 22 in epoch 2. logs: None\n",
            "Warning: train_step did not return expected logs for batch 23 in epoch 2. logs: None\n",
            "Warning: train_step did not return expected logs for batch 24 in epoch 2. logs: None\n",
            "Warning: train_step did not return expected logs for batch 25 in epoch 2. logs: None\n",
            "Warning: train_step did not return expected logs for batch 26 in epoch 2. logs: None\n",
            "Warning: train_step did not return expected logs for batch 27 in epoch 2. logs: None\n",
            "Warning: train_step did not return expected logs for batch 28 in epoch 2. logs: None\n",
            "Warning: train_step did not return expected logs for batch 29 in epoch 2. logs: None\n",
            "Warning: train_step did not return expected logs for batch 30 in epoch 2. logs: None\n",
            "Warning: train_step did not return expected logs for batch 31 in epoch 2. logs: None\n",
            "Warning: train_step did not return expected logs for batch 32 in epoch 2. logs: None\n",
            "Warning: train_step did not return expected logs for batch 33 in epoch 2. logs: None\n",
            "Warning: train_step did not return expected logs for batch 34 in epoch 2. logs: None\n",
            "Warning: train_step did not return expected logs for batch 35 in epoch 2. logs: None\n",
            "Warning: train_step did not return expected logs for batch 36 in epoch 2. logs: None\n",
            "Warning: train_step did not return expected logs for batch 37 in epoch 2. logs: None\n",
            "Warning: train_step did not return expected logs for batch 38 in epoch 2. logs: None\n",
            "Warning: train_step did not return expected logs for batch 39 in epoch 2. logs: None\n",
            "Warning: train_step did not return expected logs for batch 40 in epoch 2. logs: None\n",
            "Warning: train_step did not return expected logs for batch 41 in epoch 2. logs: None\n",
            "Warning: train_step did not return expected logs for batch 42 in epoch 2. logs: None\n",
            "Warning: train_step did not return expected logs for batch 43 in epoch 2. logs: None\n",
            "Warning: train_step did not return expected logs for batch 44 in epoch 2. logs: None\n",
            "Warning: train_step did not return expected logs for batch 45 in epoch 2. logs: None\n",
            "Warning: train_step did not return expected logs for batch 46 in epoch 2. logs: None\n",
            "Warning: train_step did not return expected logs for batch 47 in epoch 2. logs: None\n",
            "Warning: train_step did not return expected logs for batch 48 in epoch 2. logs: None\n",
            "Warning: train_step did not return expected logs for batch 49 in epoch 2. logs: None\n",
            "Warning: train_step did not return expected logs for batch 50 in epoch 2. logs: None\n",
            "Epoch 2 Batch 50 Loss N/A\n",
            "Warning: train_step did not return expected logs for batch 51 in epoch 2. logs: None\n",
            "Warning: train_step did not return expected logs for batch 52 in epoch 2. logs: None\n",
            "Warning: train_step did not return expected logs for batch 53 in epoch 2. logs: None\n",
            "Warning: train_step did not return expected logs for batch 54 in epoch 2. logs: None\n",
            "Warning: train_step did not return expected logs for batch 55 in epoch 2. logs: None\n",
            "Warning: train_step did not return expected logs for batch 56 in epoch 2. logs: None\n",
            "Warning: train_step did not return expected logs for batch 57 in epoch 2. logs: None\n",
            "Warning: train_step did not return expected logs for batch 58 in epoch 2. logs: None\n",
            "Warning: train_step did not return expected logs for batch 59 in epoch 2. logs: None\n",
            "Warning: train_step did not return expected logs for batch 60 in epoch 2. logs: None\n",
            "Warning: train_step did not return expected logs for batch 61 in epoch 2. logs: None\n",
            "Warning: train_step did not return expected logs for batch 62 in epoch 2. logs: None\n",
            "Warning: train_step did not return expected logs for batch 63 in epoch 2. logs: None\n",
            "Warning: train_step did not return expected logs for batch 64 in epoch 2. logs: None\n",
            "Warning: train_step did not return expected logs for batch 65 in epoch 2. logs: None\n",
            "Warning: train_step did not return expected logs for batch 66 in epoch 2. logs: None\n",
            "Warning: train_step did not return expected logs for batch 67 in epoch 2. logs: None\n",
            "Warning: train_step did not return expected logs for batch 68 in epoch 2. logs: None\n",
            "Warning: train_step did not return expected logs for batch 69 in epoch 2. logs: None\n",
            "Warning: train_step did not return expected logs for batch 70 in epoch 2. logs: None\n",
            "Warning: train_step did not return expected logs for batch 71 in epoch 2. logs: None\n",
            "Warning: train_step did not return expected logs for batch 72 in epoch 2. logs: None\n",
            "Warning: train_step did not return expected logs for batch 73 in epoch 2. logs: None\n",
            "Warning: train_step did not return expected logs for batch 74 in epoch 2. logs: None\n",
            "Warning: train_step did not return expected logs for batch 75 in epoch 2. logs: None\n",
            "Warning: train_step did not return expected logs for batch 76 in epoch 2. logs: None\n",
            "Warning: train_step did not return expected logs for batch 77 in epoch 2. logs: None\n",
            "Warning: train_step did not return expected logs for batch 78 in epoch 2. logs: None\n",
            "Warning: train_step did not return expected logs for batch 79 in epoch 2. logs: None\n",
            "Warning: train_step did not return expected logs for batch 80 in epoch 2. logs: None\n",
            "Warning: train_step did not return expected logs for batch 81 in epoch 2. logs: None\n",
            "Warning: train_step did not return expected logs for batch 82 in epoch 2. logs: None\n",
            "Warning: train_step did not return expected logs for batch 83 in epoch 2. logs: None\n",
            "Warning: train_step did not return expected logs for batch 84 in epoch 2. logs: None\n",
            "Warning: train_step did not return expected logs for batch 85 in epoch 2. logs: None\n",
            "Warning: train_step did not return expected logs for batch 86 in epoch 2. logs: None\n",
            "Warning: train_step did not return expected logs for batch 87 in epoch 2. logs: None\n",
            "Warning: train_step did not return expected logs for batch 88 in epoch 2. logs: None\n",
            "Warning: train_step did not return expected logs for batch 89 in epoch 2. logs: None\n",
            "Warning: train_step did not return expected logs for batch 90 in epoch 2. logs: None\n",
            "Warning: train_step did not return expected logs for batch 91 in epoch 2. logs: None\n",
            "Warning: train_step did not return expected logs for batch 92 in epoch 2. logs: None\n",
            "Warning: train_step did not return expected logs for batch 93 in epoch 2. logs: None\n",
            "Warning: train_step did not return expected logs for batch 94 in epoch 2. logs: None\n",
            "Warning: train_step did not return expected logs for batch 95 in epoch 2. logs: None\n",
            "Warning: train_step did not return expected logs for batch 96 in epoch 2. logs: None\n",
            "Warning: train_step did not return expected logs for batch 97 in epoch 2. logs: None\n",
            "Warning: train_step did not return expected logs for batch 98 in epoch 2. logs: None\n",
            "Warning: train_step did not return expected logs for batch 99 in epoch 2. logs: None\n",
            "Warning: train_step did not return expected logs for batch 100 in epoch 2. logs: None\n",
            "Epoch 2 Batch 100 Loss N/A\n",
            "Warning: train_step did not return expected logs for batch 101 in epoch 2. logs: None\n",
            "Warning: train_step did not return expected logs for batch 102 in epoch 2. logs: None\n",
            "Warning: train_step did not return expected logs for batch 103 in epoch 2. logs: None\n",
            "Warning: train_step did not return expected logs for batch 104 in epoch 2. logs: None\n",
            "Warning: train_step did not return expected logs for batch 105 in epoch 2. logs: None\n",
            "Warning: train_step did not return expected logs for batch 106 in epoch 2. logs: None\n",
            "Warning: train_step did not return expected logs for batch 107 in epoch 2. logs: None\n",
            "Warning: train_step did not return expected logs for batch 108 in epoch 2. logs: None\n",
            "Warning: train_step did not return expected logs for batch 109 in epoch 2. logs: None\n",
            "Warning: train_step did not return expected logs for batch 110 in epoch 2. logs: None\n",
            "Warning: train_step did not return expected logs for batch 111 in epoch 2. logs: None\n",
            "Warning: train_step did not return expected logs for batch 112 in epoch 2. logs: None\n",
            "Warning: train_step did not return expected logs for batch 113 in epoch 2. logs: None\n",
            "Warning: train_step did not return expected logs for batch 114 in epoch 2. logs: None\n",
            "Warning: train_step did not return expected logs for batch 115 in epoch 2. logs: None\n",
            "Warning: train_step did not return expected logs for batch 116 in epoch 2. logs: None\n",
            "Warning: train_step did not return expected logs for batch 117 in epoch 2. logs: None\n",
            "Warning: train_step did not return expected logs for batch 118 in epoch 2. logs: None\n",
            "Warning: train_step did not return expected logs for batch 119 in epoch 2. logs: None\n",
            "Warning: train_step did not return expected logs for batch 120 in epoch 2. logs: None\n",
            "Warning: train_step did not return expected logs for batch 121 in epoch 2. logs: None\n",
            "Warning: train_step did not return expected logs for batch 122 in epoch 2. logs: None\n",
            "Warning: train_step did not return expected logs for batch 123 in epoch 2. logs: None\n",
            "Warning: train_step did not return expected logs for batch 124 in epoch 2. logs: None\n",
            "Warning: train_step did not return expected logs for batch 125 in epoch 2. logs: None\n",
            "Warning: train_step did not return expected logs for batch 126 in epoch 2. logs: None\n",
            "Warning: train_step did not return expected logs for batch 127 in epoch 2. logs: None\n",
            "Warning: train_step did not return expected logs for batch 128 in epoch 2. logs: None\n",
            "Warning: train_step did not return expected logs for batch 129 in epoch 2. logs: None\n",
            "Warning: train_step did not return expected logs for batch 130 in epoch 2. logs: None\n",
            "Warning: train_step did not return expected logs for batch 131 in epoch 2. logs: None\n",
            "Warning: train_step did not return expected logs for batch 132 in epoch 2. logs: None\n",
            "Warning: train_step did not return expected logs for batch 133 in epoch 2. logs: None\n",
            "Warning: train_step did not return expected logs for batch 134 in epoch 2. logs: None\n",
            "Warning: train_step did not return expected logs for batch 135 in epoch 2. logs: None\n",
            "Warning: train_step did not return expected logs for batch 136 in epoch 2. logs: None\n",
            "Warning: train_step did not return expected logs for batch 137 in epoch 2. logs: None\n",
            "Warning: train_step did not return expected logs for batch 138 in epoch 2. logs: None\n",
            "Warning: train_step did not return expected logs for batch 139 in epoch 2. logs: None\n",
            "Warning: train_step did not return expected logs for batch 140 in epoch 2. logs: None\n",
            "Warning: train_step did not return expected logs for batch 141 in epoch 2. logs: None\n",
            "Warning: train_step did not return expected logs for batch 142 in epoch 2. logs: None\n",
            "Warning: train_step did not return expected logs for batch 143 in epoch 2. logs: None\n",
            "Warning: train_step did not return expected logs for batch 144 in epoch 2. logs: None\n",
            "Warning: train_step did not return expected logs for batch 145 in epoch 2. logs: None\n",
            "Warning: train_step did not return expected logs for batch 146 in epoch 2. logs: None\n",
            "Warning: train_step did not return expected logs for batch 147 in epoch 2. logs: None\n",
            "Warning: train_step did not return expected logs for batch 148 in epoch 2. logs: None\n",
            "Warning: train_step did not return expected logs for batch 149 in epoch 2. logs: None\n",
            "Warning: train_step did not return expected logs for batch 150 in epoch 2. logs: None\n",
            "Epoch 2 Batch 150 Loss N/A\n",
            "Warning: train_step did not return expected logs for batch 151 in epoch 2. logs: None\n",
            "Warning: train_step did not return expected logs for batch 152 in epoch 2. logs: None\n",
            "Warning: train_step did not return expected logs for batch 153 in epoch 2. logs: None\n",
            "Warning: train_step did not return expected logs for batch 154 in epoch 2. logs: None\n",
            "Warning: train_step did not return expected logs for batch 155 in epoch 2. logs: None\n",
            "Warning: train_step did not return expected logs for batch 156 in epoch 2. logs: None\n",
            "Warning: train_step did not return expected logs for batch 157 in epoch 2. logs: None\n",
            "Warning: train_step did not return expected logs for batch 158 in epoch 2. logs: None\n",
            "Warning: train_step did not return expected logs for batch 159 in epoch 2. logs: None\n",
            "Warning: train_step did not return expected logs for batch 160 in epoch 2. logs: None\n",
            "Warning: train_step did not return expected logs for batch 161 in epoch 2. logs: None\n",
            "Warning: train_step did not return expected logs for batch 162 in epoch 2. logs: None\n",
            "Warning: train_step did not return expected logs for batch 163 in epoch 2. logs: None\n",
            "Warning: train_step did not return expected logs for batch 164 in epoch 2. logs: None\n",
            "Warning: train_step did not return expected logs for batch 165 in epoch 2. logs: None\n",
            "Warning: train_step did not return expected logs for batch 166 in epoch 2. logs: None\n",
            "Warning: train_step did not return expected logs for batch 167 in epoch 2. logs: None\n",
            "Warning: train_step did not return expected logs for batch 168 in epoch 2. logs: None\n",
            "Warning: train_step did not return expected logs for batch 169 in epoch 2. logs: None\n",
            "Warning: train_step did not return expected logs for batch 170 in epoch 2. logs: None\n",
            "Warning: train_step did not return expected logs for batch 171 in epoch 2. logs: None\n",
            "\n",
            "Epoch 2 Loss: 0.0000\n",
            "Time taken for 1 epoch 3.52 sec\n",
            "________________________________________________________________________________\n",
            "Warning: train_step did not return expected logs for batch 0 in epoch 3. logs: None\n",
            "Epoch 3 Batch 0 Loss N/A\n",
            "Warning: train_step did not return expected logs for batch 1 in epoch 3. logs: None\n",
            "Warning: train_step did not return expected logs for batch 2 in epoch 3. logs: None\n",
            "Warning: train_step did not return expected logs for batch 3 in epoch 3. logs: None\n",
            "Warning: train_step did not return expected logs for batch 4 in epoch 3. logs: None\n",
            "Warning: train_step did not return expected logs for batch 5 in epoch 3. logs: None\n",
            "Warning: train_step did not return expected logs for batch 6 in epoch 3. logs: None\n",
            "Warning: train_step did not return expected logs for batch 7 in epoch 3. logs: None\n",
            "Warning: train_step did not return expected logs for batch 8 in epoch 3. logs: None\n",
            "Warning: train_step did not return expected logs for batch 9 in epoch 3. logs: None\n",
            "Warning: train_step did not return expected logs for batch 10 in epoch 3. logs: None\n",
            "Warning: train_step did not return expected logs for batch 11 in epoch 3. logs: None\n",
            "Warning: train_step did not return expected logs for batch 12 in epoch 3. logs: None\n",
            "Warning: train_step did not return expected logs for batch 13 in epoch 3. logs: None\n",
            "Warning: train_step did not return expected logs for batch 14 in epoch 3. logs: None\n",
            "Warning: train_step did not return expected logs for batch 15 in epoch 3. logs: None\n",
            "Warning: train_step did not return expected logs for batch 16 in epoch 3. logs: None\n",
            "Warning: train_step did not return expected logs for batch 17 in epoch 3. logs: None\n",
            "Warning: train_step did not return expected logs for batch 18 in epoch 3. logs: None\n",
            "Warning: train_step did not return expected logs for batch 19 in epoch 3. logs: None\n",
            "Warning: train_step did not return expected logs for batch 20 in epoch 3. logs: None\n",
            "Warning: train_step did not return expected logs for batch 21 in epoch 3. logs: None\n",
            "Warning: train_step did not return expected logs for batch 22 in epoch 3. logs: None\n",
            "Warning: train_step did not return expected logs for batch 23 in epoch 3. logs: None\n",
            "Warning: train_step did not return expected logs for batch 24 in epoch 3. logs: None\n",
            "Warning: train_step did not return expected logs for batch 25 in epoch 3. logs: None\n",
            "Warning: train_step did not return expected logs for batch 26 in epoch 3. logs: None\n",
            "Warning: train_step did not return expected logs for batch 27 in epoch 3. logs: None\n",
            "Warning: train_step did not return expected logs for batch 28 in epoch 3. logs: None\n",
            "Warning: train_step did not return expected logs for batch 29 in epoch 3. logs: None\n",
            "Warning: train_step did not return expected logs for batch 30 in epoch 3. logs: None\n",
            "Warning: train_step did not return expected logs for batch 31 in epoch 3. logs: None\n",
            "Warning: train_step did not return expected logs for batch 32 in epoch 3. logs: None\n",
            "Warning: train_step did not return expected logs for batch 33 in epoch 3. logs: None\n",
            "Warning: train_step did not return expected logs for batch 34 in epoch 3. logs: None\n",
            "Warning: train_step did not return expected logs for batch 35 in epoch 3. logs: None\n",
            "Warning: train_step did not return expected logs for batch 36 in epoch 3. logs: None\n",
            "Warning: train_step did not return expected logs for batch 37 in epoch 3. logs: None\n",
            "Warning: train_step did not return expected logs for batch 38 in epoch 3. logs: None\n",
            "Warning: train_step did not return expected logs for batch 39 in epoch 3. logs: None\n",
            "Warning: train_step did not return expected logs for batch 40 in epoch 3. logs: None\n",
            "Warning: train_step did not return expected logs for batch 41 in epoch 3. logs: None\n",
            "Warning: train_step did not return expected logs for batch 42 in epoch 3. logs: None\n",
            "Warning: train_step did not return expected logs for batch 43 in epoch 3. logs: None\n",
            "Warning: train_step did not return expected logs for batch 44 in epoch 3. logs: None\n",
            "Warning: train_step did not return expected logs for batch 45 in epoch 3. logs: None\n",
            "Warning: train_step did not return expected logs for batch 46 in epoch 3. logs: None\n",
            "Warning: train_step did not return expected logs for batch 47 in epoch 3. logs: None\n",
            "Warning: train_step did not return expected logs for batch 48 in epoch 3. logs: None\n",
            "Warning: train_step did not return expected logs for batch 49 in epoch 3. logs: None\n",
            "Warning: train_step did not return expected logs for batch 50 in epoch 3. logs: None\n",
            "Epoch 3 Batch 50 Loss N/A\n",
            "Warning: train_step did not return expected logs for batch 51 in epoch 3. logs: None\n",
            "Warning: train_step did not return expected logs for batch 52 in epoch 3. logs: None\n",
            "Warning: train_step did not return expected logs for batch 53 in epoch 3. logs: None\n",
            "Warning: train_step did not return expected logs for batch 54 in epoch 3. logs: None\n",
            "Warning: train_step did not return expected logs for batch 55 in epoch 3. logs: None\n",
            "Warning: train_step did not return expected logs for batch 56 in epoch 3. logs: None\n",
            "Warning: train_step did not return expected logs for batch 57 in epoch 3. logs: None\n",
            "Warning: train_step did not return expected logs for batch 58 in epoch 3. logs: None\n",
            "Warning: train_step did not return expected logs for batch 59 in epoch 3. logs: None\n",
            "Warning: train_step did not return expected logs for batch 60 in epoch 3. logs: None\n",
            "Warning: train_step did not return expected logs for batch 61 in epoch 3. logs: None\n",
            "Warning: train_step did not return expected logs for batch 62 in epoch 3. logs: None\n",
            "Warning: train_step did not return expected logs for batch 63 in epoch 3. logs: None\n",
            "Warning: train_step did not return expected logs for batch 64 in epoch 3. logs: None\n",
            "Warning: train_step did not return expected logs for batch 65 in epoch 3. logs: None\n",
            "Warning: train_step did not return expected logs for batch 66 in epoch 3. logs: None\n",
            "Warning: train_step did not return expected logs for batch 67 in epoch 3. logs: None\n",
            "Warning: train_step did not return expected logs for batch 68 in epoch 3. logs: None\n",
            "Warning: train_step did not return expected logs for batch 69 in epoch 3. logs: None\n",
            "Warning: train_step did not return expected logs for batch 70 in epoch 3. logs: None\n",
            "Warning: train_step did not return expected logs for batch 71 in epoch 3. logs: None\n",
            "Warning: train_step did not return expected logs for batch 72 in epoch 3. logs: None\n",
            "Warning: train_step did not return expected logs for batch 73 in epoch 3. logs: None\n",
            "Warning: train_step did not return expected logs for batch 74 in epoch 3. logs: None\n",
            "Warning: train_step did not return expected logs for batch 75 in epoch 3. logs: None\n",
            "Warning: train_step did not return expected logs for batch 76 in epoch 3. logs: None\n",
            "Warning: train_step did not return expected logs for batch 77 in epoch 3. logs: None\n",
            "Warning: train_step did not return expected logs for batch 78 in epoch 3. logs: None\n",
            "Warning: train_step did not return expected logs for batch 79 in epoch 3. logs: None\n",
            "Warning: train_step did not return expected logs for batch 80 in epoch 3. logs: None\n",
            "Warning: train_step did not return expected logs for batch 81 in epoch 3. logs: None\n",
            "Warning: train_step did not return expected logs for batch 82 in epoch 3. logs: None\n",
            "Warning: train_step did not return expected logs for batch 83 in epoch 3. logs: None\n",
            "Warning: train_step did not return expected logs for batch 84 in epoch 3. logs: None\n",
            "Warning: train_step did not return expected logs for batch 85 in epoch 3. logs: None\n",
            "Warning: train_step did not return expected logs for batch 86 in epoch 3. logs: None\n",
            "Warning: train_step did not return expected logs for batch 87 in epoch 3. logs: None\n",
            "Warning: train_step did not return expected logs for batch 88 in epoch 3. logs: None\n",
            "Warning: train_step did not return expected logs for batch 89 in epoch 3. logs: None\n",
            "Warning: train_step did not return expected logs for batch 90 in epoch 3. logs: None\n",
            "Warning: train_step did not return expected logs for batch 91 in epoch 3. logs: None\n",
            "Warning: train_step did not return expected logs for batch 92 in epoch 3. logs: None\n",
            "Warning: train_step did not return expected logs for batch 93 in epoch 3. logs: None\n",
            "Warning: train_step did not return expected logs for batch 94 in epoch 3. logs: None\n",
            "Warning: train_step did not return expected logs for batch 95 in epoch 3. logs: None\n",
            "Warning: train_step did not return expected logs for batch 96 in epoch 3. logs: None\n",
            "Warning: train_step did not return expected logs for batch 97 in epoch 3. logs: None\n",
            "Warning: train_step did not return expected logs for batch 98 in epoch 3. logs: None\n",
            "Warning: train_step did not return expected logs for batch 99 in epoch 3. logs: None\n",
            "Warning: train_step did not return expected logs for batch 100 in epoch 3. logs: None\n",
            "Epoch 3 Batch 100 Loss N/A\n",
            "Warning: train_step did not return expected logs for batch 101 in epoch 3. logs: None\n",
            "Warning: train_step did not return expected logs for batch 102 in epoch 3. logs: None\n",
            "Warning: train_step did not return expected logs for batch 103 in epoch 3. logs: None\n",
            "Warning: train_step did not return expected logs for batch 104 in epoch 3. logs: None\n",
            "Warning: train_step did not return expected logs for batch 105 in epoch 3. logs: None\n",
            "Warning: train_step did not return expected logs for batch 106 in epoch 3. logs: None\n",
            "Warning: train_step did not return expected logs for batch 107 in epoch 3. logs: None\n",
            "Warning: train_step did not return expected logs for batch 108 in epoch 3. logs: None\n",
            "Warning: train_step did not return expected logs for batch 109 in epoch 3. logs: None\n",
            "Warning: train_step did not return expected logs for batch 110 in epoch 3. logs: None\n",
            "Warning: train_step did not return expected logs for batch 111 in epoch 3. logs: None\n",
            "Warning: train_step did not return expected logs for batch 112 in epoch 3. logs: None\n",
            "Warning: train_step did not return expected logs for batch 113 in epoch 3. logs: None\n",
            "Warning: train_step did not return expected logs for batch 114 in epoch 3. logs: None\n",
            "Warning: train_step did not return expected logs for batch 115 in epoch 3. logs: None\n",
            "Warning: train_step did not return expected logs for batch 116 in epoch 3. logs: None\n",
            "Warning: train_step did not return expected logs for batch 117 in epoch 3. logs: None\n",
            "Warning: train_step did not return expected logs for batch 118 in epoch 3. logs: None\n",
            "Warning: train_step did not return expected logs for batch 119 in epoch 3. logs: None\n",
            "Warning: train_step did not return expected logs for batch 120 in epoch 3. logs: None\n",
            "Warning: train_step did not return expected logs for batch 121 in epoch 3. logs: None\n",
            "Warning: train_step did not return expected logs for batch 122 in epoch 3. logs: None\n",
            "Warning: train_step did not return expected logs for batch 123 in epoch 3. logs: None\n",
            "Warning: train_step did not return expected logs for batch 124 in epoch 3. logs: None\n",
            "Warning: train_step did not return expected logs for batch 125 in epoch 3. logs: None\n",
            "Warning: train_step did not return expected logs for batch 126 in epoch 3. logs: None\n",
            "Warning: train_step did not return expected logs for batch 127 in epoch 3. logs: None\n",
            "Warning: train_step did not return expected logs for batch 128 in epoch 3. logs: None\n",
            "Warning: train_step did not return expected logs for batch 129 in epoch 3. logs: None\n",
            "Warning: train_step did not return expected logs for batch 130 in epoch 3. logs: None\n",
            "Warning: train_step did not return expected logs for batch 131 in epoch 3. logs: None\n",
            "Warning: train_step did not return expected logs for batch 132 in epoch 3. logs: None\n",
            "Warning: train_step did not return expected logs for batch 133 in epoch 3. logs: None\n",
            "Warning: train_step did not return expected logs for batch 134 in epoch 3. logs: None\n",
            "Warning: train_step did not return expected logs for batch 135 in epoch 3. logs: None\n",
            "Warning: train_step did not return expected logs for batch 136 in epoch 3. logs: None\n",
            "Warning: train_step did not return expected logs for batch 137 in epoch 3. logs: None\n",
            "Warning: train_step did not return expected logs for batch 138 in epoch 3. logs: None\n",
            "Warning: train_step did not return expected logs for batch 139 in epoch 3. logs: None\n",
            "Warning: train_step did not return expected logs for batch 140 in epoch 3. logs: None\n",
            "Warning: train_step did not return expected logs for batch 141 in epoch 3. logs: None\n",
            "Warning: train_step did not return expected logs for batch 142 in epoch 3. logs: None\n",
            "Warning: train_step did not return expected logs for batch 143 in epoch 3. logs: None\n",
            "Warning: train_step did not return expected logs for batch 144 in epoch 3. logs: None\n",
            "Warning: train_step did not return expected logs for batch 145 in epoch 3. logs: None\n",
            "Warning: train_step did not return expected logs for batch 146 in epoch 3. logs: None\n",
            "Warning: train_step did not return expected logs for batch 147 in epoch 3. logs: None\n",
            "Warning: train_step did not return expected logs for batch 148 in epoch 3. logs: None\n",
            "Warning: train_step did not return expected logs for batch 149 in epoch 3. logs: None\n",
            "Warning: train_step did not return expected logs for batch 150 in epoch 3. logs: None\n",
            "Epoch 3 Batch 150 Loss N/A\n",
            "Warning: train_step did not return expected logs for batch 151 in epoch 3. logs: None\n",
            "Warning: train_step did not return expected logs for batch 152 in epoch 3. logs: None\n",
            "Warning: train_step did not return expected logs for batch 153 in epoch 3. logs: None\n",
            "Warning: train_step did not return expected logs for batch 154 in epoch 3. logs: None\n",
            "Warning: train_step did not return expected logs for batch 155 in epoch 3. logs: None\n",
            "Warning: train_step did not return expected logs for batch 156 in epoch 3. logs: None\n",
            "Warning: train_step did not return expected logs for batch 157 in epoch 3. logs: None\n",
            "Warning: train_step did not return expected logs for batch 158 in epoch 3. logs: None\n",
            "Warning: train_step did not return expected logs for batch 159 in epoch 3. logs: None\n",
            "Warning: train_step did not return expected logs for batch 160 in epoch 3. logs: None\n",
            "Warning: train_step did not return expected logs for batch 161 in epoch 3. logs: None\n",
            "Warning: train_step did not return expected logs for batch 162 in epoch 3. logs: None\n",
            "Warning: train_step did not return expected logs for batch 163 in epoch 3. logs: None\n",
            "Warning: train_step did not return expected logs for batch 164 in epoch 3. logs: None\n",
            "Warning: train_step did not return expected logs for batch 165 in epoch 3. logs: None\n",
            "Warning: train_step did not return expected logs for batch 166 in epoch 3. logs: None\n",
            "Warning: train_step did not return expected logs for batch 167 in epoch 3. logs: None\n",
            "Warning: train_step did not return expected logs for batch 168 in epoch 3. logs: None\n",
            "Warning: train_step did not return expected logs for batch 169 in epoch 3. logs: None\n",
            "Warning: train_step did not return expected logs for batch 170 in epoch 3. logs: None\n",
            "Warning: train_step did not return expected logs for batch 171 in epoch 3. logs: None\n",
            "\n",
            "Epoch 3 Loss: 0.0000\n",
            "Time taken for 1 epoch 3.39 sec\n",
            "________________________________________________________________________________\n",
            "Warning: train_step did not return expected logs for batch 0 in epoch 4. logs: None\n",
            "Epoch 4 Batch 0 Loss N/A\n",
            "Warning: train_step did not return expected logs for batch 1 in epoch 4. logs: None\n",
            "Warning: train_step did not return expected logs for batch 2 in epoch 4. logs: None\n",
            "Warning: train_step did not return expected logs for batch 3 in epoch 4. logs: None\n",
            "Warning: train_step did not return expected logs for batch 4 in epoch 4. logs: None\n",
            "Warning: train_step did not return expected logs for batch 5 in epoch 4. logs: None\n",
            "Warning: train_step did not return expected logs for batch 6 in epoch 4. logs: None\n",
            "Warning: train_step did not return expected logs for batch 7 in epoch 4. logs: None\n",
            "Warning: train_step did not return expected logs for batch 8 in epoch 4. logs: None\n",
            "Warning: train_step did not return expected logs for batch 9 in epoch 4. logs: None\n",
            "Warning: train_step did not return expected logs for batch 10 in epoch 4. logs: None\n",
            "Warning: train_step did not return expected logs for batch 11 in epoch 4. logs: None\n",
            "Warning: train_step did not return expected logs for batch 12 in epoch 4. logs: None\n",
            "Warning: train_step did not return expected logs for batch 13 in epoch 4. logs: None\n",
            "Warning: train_step did not return expected logs for batch 14 in epoch 4. logs: None\n",
            "Warning: train_step did not return expected logs for batch 15 in epoch 4. logs: None\n",
            "Warning: train_step did not return expected logs for batch 16 in epoch 4. logs: None\n",
            "Warning: train_step did not return expected logs for batch 17 in epoch 4. logs: None\n",
            "Warning: train_step did not return expected logs for batch 18 in epoch 4. logs: None\n",
            "Warning: train_step did not return expected logs for batch 19 in epoch 4. logs: None\n",
            "Warning: train_step did not return expected logs for batch 20 in epoch 4. logs: None\n",
            "Warning: train_step did not return expected logs for batch 21 in epoch 4. logs: None\n",
            "Warning: train_step did not return expected logs for batch 22 in epoch 4. logs: None\n",
            "Warning: train_step did not return expected logs for batch 23 in epoch 4. logs: None\n",
            "Warning: train_step did not return expected logs for batch 24 in epoch 4. logs: None\n",
            "Warning: train_step did not return expected logs for batch 25 in epoch 4. logs: None\n",
            "Warning: train_step did not return expected logs for batch 26 in epoch 4. logs: None\n",
            "Warning: train_step did not return expected logs for batch 27 in epoch 4. logs: None\n",
            "Warning: train_step did not return expected logs for batch 28 in epoch 4. logs: None\n",
            "Warning: train_step did not return expected logs for batch 29 in epoch 4. logs: None\n",
            "Warning: train_step did not return expected logs for batch 30 in epoch 4. logs: None\n",
            "Warning: train_step did not return expected logs for batch 31 in epoch 4. logs: None\n",
            "Warning: train_step did not return expected logs for batch 32 in epoch 4. logs: None\n",
            "Warning: train_step did not return expected logs for batch 33 in epoch 4. logs: None\n",
            "Warning: train_step did not return expected logs for batch 34 in epoch 4. logs: None\n",
            "Warning: train_step did not return expected logs for batch 35 in epoch 4. logs: None\n",
            "Warning: train_step did not return expected logs for batch 36 in epoch 4. logs: None\n",
            "Warning: train_step did not return expected logs for batch 37 in epoch 4. logs: None\n",
            "Warning: train_step did not return expected logs for batch 38 in epoch 4. logs: None\n",
            "Warning: train_step did not return expected logs for batch 39 in epoch 4. logs: None\n",
            "Warning: train_step did not return expected logs for batch 40 in epoch 4. logs: None\n",
            "Warning: train_step did not return expected logs for batch 41 in epoch 4. logs: None\n",
            "Warning: train_step did not return expected logs for batch 42 in epoch 4. logs: None\n",
            "Warning: train_step did not return expected logs for batch 43 in epoch 4. logs: None\n",
            "Warning: train_step did not return expected logs for batch 44 in epoch 4. logs: None\n",
            "Warning: train_step did not return expected logs for batch 45 in epoch 4. logs: None\n",
            "Warning: train_step did not return expected logs for batch 46 in epoch 4. logs: None\n",
            "Warning: train_step did not return expected logs for batch 47 in epoch 4. logs: None\n",
            "Warning: train_step did not return expected logs for batch 48 in epoch 4. logs: None\n",
            "Warning: train_step did not return expected logs for batch 49 in epoch 4. logs: None\n",
            "Warning: train_step did not return expected logs for batch 50 in epoch 4. logs: None\n",
            "Epoch 4 Batch 50 Loss N/A\n",
            "Warning: train_step did not return expected logs for batch 51 in epoch 4. logs: None\n",
            "Warning: train_step did not return expected logs for batch 52 in epoch 4. logs: None\n",
            "Warning: train_step did not return expected logs for batch 53 in epoch 4. logs: None\n",
            "Warning: train_step did not return expected logs for batch 54 in epoch 4. logs: None\n",
            "Warning: train_step did not return expected logs for batch 55 in epoch 4. logs: None\n",
            "Warning: train_step did not return expected logs for batch 56 in epoch 4. logs: None\n",
            "Warning: train_step did not return expected logs for batch 57 in epoch 4. logs: None\n",
            "Warning: train_step did not return expected logs for batch 58 in epoch 4. logs: None\n",
            "Warning: train_step did not return expected logs for batch 59 in epoch 4. logs: None\n",
            "Warning: train_step did not return expected logs for batch 60 in epoch 4. logs: None\n",
            "Warning: train_step did not return expected logs for batch 61 in epoch 4. logs: None\n",
            "Warning: train_step did not return expected logs for batch 62 in epoch 4. logs: None\n",
            "Warning: train_step did not return expected logs for batch 63 in epoch 4. logs: None\n",
            "Warning: train_step did not return expected logs for batch 64 in epoch 4. logs: None\n",
            "Warning: train_step did not return expected logs for batch 65 in epoch 4. logs: None\n",
            "Warning: train_step did not return expected logs for batch 66 in epoch 4. logs: None\n",
            "Warning: train_step did not return expected logs for batch 67 in epoch 4. logs: None\n",
            "Warning: train_step did not return expected logs for batch 68 in epoch 4. logs: None\n",
            "Warning: train_step did not return expected logs for batch 69 in epoch 4. logs: None\n",
            "Warning: train_step did not return expected logs for batch 70 in epoch 4. logs: None\n",
            "Warning: train_step did not return expected logs for batch 71 in epoch 4. logs: None\n",
            "Warning: train_step did not return expected logs for batch 72 in epoch 4. logs: None\n",
            "Warning: train_step did not return expected logs for batch 73 in epoch 4. logs: None\n",
            "Warning: train_step did not return expected logs for batch 74 in epoch 4. logs: None\n",
            "Warning: train_step did not return expected logs for batch 75 in epoch 4. logs: None\n",
            "Warning: train_step did not return expected logs for batch 76 in epoch 4. logs: None\n",
            "Warning: train_step did not return expected logs for batch 77 in epoch 4. logs: None\n",
            "Warning: train_step did not return expected logs for batch 78 in epoch 4. logs: None\n",
            "Warning: train_step did not return expected logs for batch 79 in epoch 4. logs: None\n",
            "Warning: train_step did not return expected logs for batch 80 in epoch 4. logs: None\n",
            "Warning: train_step did not return expected logs for batch 81 in epoch 4. logs: None\n",
            "Warning: train_step did not return expected logs for batch 82 in epoch 4. logs: None\n",
            "Warning: train_step did not return expected logs for batch 83 in epoch 4. logs: None\n",
            "Warning: train_step did not return expected logs for batch 84 in epoch 4. logs: None\n",
            "Warning: train_step did not return expected logs for batch 85 in epoch 4. logs: None\n",
            "Warning: train_step did not return expected logs for batch 86 in epoch 4. logs: None\n",
            "Warning: train_step did not return expected logs for batch 87 in epoch 4. logs: None\n",
            "Warning: train_step did not return expected logs for batch 88 in epoch 4. logs: None\n",
            "Warning: train_step did not return expected logs for batch 89 in epoch 4. logs: None\n",
            "Warning: train_step did not return expected logs for batch 90 in epoch 4. logs: None\n",
            "Warning: train_step did not return expected logs for batch 91 in epoch 4. logs: None\n",
            "Warning: train_step did not return expected logs for batch 92 in epoch 4. logs: None\n",
            "Warning: train_step did not return expected logs for batch 93 in epoch 4. logs: None\n",
            "Warning: train_step did not return expected logs for batch 94 in epoch 4. logs: None\n",
            "Warning: train_step did not return expected logs for batch 95 in epoch 4. logs: None\n",
            "Warning: train_step did not return expected logs for batch 96 in epoch 4. logs: None\n",
            "Warning: train_step did not return expected logs for batch 97 in epoch 4. logs: None\n",
            "Warning: train_step did not return expected logs for batch 98 in epoch 4. logs: None\n",
            "Warning: train_step did not return expected logs for batch 99 in epoch 4. logs: None\n",
            "Warning: train_step did not return expected logs for batch 100 in epoch 4. logs: None\n",
            "Epoch 4 Batch 100 Loss N/A\n",
            "Warning: train_step did not return expected logs for batch 101 in epoch 4. logs: None\n",
            "Warning: train_step did not return expected logs for batch 102 in epoch 4. logs: None\n",
            "Warning: train_step did not return expected logs for batch 103 in epoch 4. logs: None\n",
            "Warning: train_step did not return expected logs for batch 104 in epoch 4. logs: None\n",
            "Warning: train_step did not return expected logs for batch 105 in epoch 4. logs: None\n",
            "Warning: train_step did not return expected logs for batch 106 in epoch 4. logs: None\n",
            "Warning: train_step did not return expected logs for batch 107 in epoch 4. logs: None\n",
            "Warning: train_step did not return expected logs for batch 108 in epoch 4. logs: None\n",
            "Warning: train_step did not return expected logs for batch 109 in epoch 4. logs: None\n",
            "Warning: train_step did not return expected logs for batch 110 in epoch 4. logs: None\n",
            "Warning: train_step did not return expected logs for batch 111 in epoch 4. logs: None\n",
            "Warning: train_step did not return expected logs for batch 112 in epoch 4. logs: None\n",
            "Warning: train_step did not return expected logs for batch 113 in epoch 4. logs: None\n",
            "Warning: train_step did not return expected logs for batch 114 in epoch 4. logs: None\n",
            "Warning: train_step did not return expected logs for batch 115 in epoch 4. logs: None\n",
            "Warning: train_step did not return expected logs for batch 116 in epoch 4. logs: None\n",
            "Warning: train_step did not return expected logs for batch 117 in epoch 4. logs: None\n",
            "Warning: train_step did not return expected logs for batch 118 in epoch 4. logs: None\n",
            "Warning: train_step did not return expected logs for batch 119 in epoch 4. logs: None\n",
            "Warning: train_step did not return expected logs for batch 120 in epoch 4. logs: None\n",
            "Warning: train_step did not return expected logs for batch 121 in epoch 4. logs: None\n",
            "Warning: train_step did not return expected logs for batch 122 in epoch 4. logs: None\n",
            "Warning: train_step did not return expected logs for batch 123 in epoch 4. logs: None\n",
            "Warning: train_step did not return expected logs for batch 124 in epoch 4. logs: None\n",
            "Warning: train_step did not return expected logs for batch 125 in epoch 4. logs: None\n",
            "Warning: train_step did not return expected logs for batch 126 in epoch 4. logs: None\n",
            "Warning: train_step did not return expected logs for batch 127 in epoch 4. logs: None\n",
            "Warning: train_step did not return expected logs for batch 128 in epoch 4. logs: None\n",
            "Warning: train_step did not return expected logs for batch 129 in epoch 4. logs: None\n",
            "Warning: train_step did not return expected logs for batch 130 in epoch 4. logs: None\n",
            "Warning: train_step did not return expected logs for batch 131 in epoch 4. logs: None\n",
            "Warning: train_step did not return expected logs for batch 132 in epoch 4. logs: None\n",
            "Warning: train_step did not return expected logs for batch 133 in epoch 4. logs: None\n",
            "Warning: train_step did not return expected logs for batch 134 in epoch 4. logs: None\n",
            "Warning: train_step did not return expected logs for batch 135 in epoch 4. logs: None\n",
            "Warning: train_step did not return expected logs for batch 136 in epoch 4. logs: None\n",
            "Warning: train_step did not return expected logs for batch 137 in epoch 4. logs: None\n",
            "Warning: train_step did not return expected logs for batch 138 in epoch 4. logs: None\n",
            "Warning: train_step did not return expected logs for batch 139 in epoch 4. logs: None\n",
            "Warning: train_step did not return expected logs for batch 140 in epoch 4. logs: None\n",
            "Warning: train_step did not return expected logs for batch 141 in epoch 4. logs: None\n",
            "Warning: train_step did not return expected logs for batch 142 in epoch 4. logs: None\n",
            "Warning: train_step did not return expected logs for batch 143 in epoch 4. logs: None\n",
            "Warning: train_step did not return expected logs for batch 144 in epoch 4. logs: None\n",
            "Warning: train_step did not return expected logs for batch 145 in epoch 4. logs: None\n",
            "Warning: train_step did not return expected logs for batch 146 in epoch 4. logs: None\n",
            "Warning: train_step did not return expected logs for batch 147 in epoch 4. logs: None\n",
            "Warning: train_step did not return expected logs for batch 148 in epoch 4. logs: None\n",
            "Warning: train_step did not return expected logs for batch 149 in epoch 4. logs: None\n",
            "Warning: train_step did not return expected logs for batch 150 in epoch 4. logs: None\n",
            "Epoch 4 Batch 150 Loss N/A\n",
            "Warning: train_step did not return expected logs for batch 151 in epoch 4. logs: None\n",
            "Warning: train_step did not return expected logs for batch 152 in epoch 4. logs: None\n",
            "Warning: train_step did not return expected logs for batch 153 in epoch 4. logs: None\n",
            "Warning: train_step did not return expected logs for batch 154 in epoch 4. logs: None\n",
            "Warning: train_step did not return expected logs for batch 155 in epoch 4. logs: None\n",
            "Warning: train_step did not return expected logs for batch 156 in epoch 4. logs: None\n",
            "Warning: train_step did not return expected logs for batch 157 in epoch 4. logs: None\n",
            "Warning: train_step did not return expected logs for batch 158 in epoch 4. logs: None\n",
            "Warning: train_step did not return expected logs for batch 159 in epoch 4. logs: None\n",
            "Warning: train_step did not return expected logs for batch 160 in epoch 4. logs: None\n",
            "Warning: train_step did not return expected logs for batch 161 in epoch 4. logs: None\n",
            "Warning: train_step did not return expected logs for batch 162 in epoch 4. logs: None\n",
            "Warning: train_step did not return expected logs for batch 163 in epoch 4. logs: None\n",
            "Warning: train_step did not return expected logs for batch 164 in epoch 4. logs: None\n",
            "Warning: train_step did not return expected logs for batch 165 in epoch 4. logs: None\n",
            "Warning: train_step did not return expected logs for batch 166 in epoch 4. logs: None\n",
            "Warning: train_step did not return expected logs for batch 167 in epoch 4. logs: None\n",
            "Warning: train_step did not return expected logs for batch 168 in epoch 4. logs: None\n",
            "Warning: train_step did not return expected logs for batch 169 in epoch 4. logs: None\n",
            "Warning: train_step did not return expected logs for batch 170 in epoch 4. logs: None\n",
            "Warning: train_step did not return expected logs for batch 171 in epoch 4. logs: None\n",
            "\n",
            "Epoch 4 Loss: 0.0000\n",
            "Time taken for 1 epoch 5.41 sec\n",
            "________________________________________________________________________________\n",
            "Warning: train_step did not return expected logs for batch 0 in epoch 5. logs: None\n",
            "Epoch 5 Batch 0 Loss N/A\n",
            "Warning: train_step did not return expected logs for batch 1 in epoch 5. logs: None\n",
            "Warning: train_step did not return expected logs for batch 2 in epoch 5. logs: None\n",
            "Warning: train_step did not return expected logs for batch 3 in epoch 5. logs: None\n",
            "Warning: train_step did not return expected logs for batch 4 in epoch 5. logs: None\n",
            "Warning: train_step did not return expected logs for batch 5 in epoch 5. logs: None\n",
            "Warning: train_step did not return expected logs for batch 6 in epoch 5. logs: None\n",
            "Warning: train_step did not return expected logs for batch 7 in epoch 5. logs: None\n",
            "Warning: train_step did not return expected logs for batch 8 in epoch 5. logs: None\n",
            "Warning: train_step did not return expected logs for batch 9 in epoch 5. logs: None\n",
            "Warning: train_step did not return expected logs for batch 10 in epoch 5. logs: None\n",
            "Warning: train_step did not return expected logs for batch 11 in epoch 5. logs: None\n",
            "Warning: train_step did not return expected logs for batch 12 in epoch 5. logs: None\n",
            "Warning: train_step did not return expected logs for batch 13 in epoch 5. logs: None\n",
            "Warning: train_step did not return expected logs for batch 14 in epoch 5. logs: None\n",
            "Warning: train_step did not return expected logs for batch 15 in epoch 5. logs: None\n",
            "Warning: train_step did not return expected logs for batch 16 in epoch 5. logs: None\n",
            "Warning: train_step did not return expected logs for batch 17 in epoch 5. logs: None\n",
            "Warning: train_step did not return expected logs for batch 18 in epoch 5. logs: None\n",
            "Warning: train_step did not return expected logs for batch 19 in epoch 5. logs: None\n",
            "Warning: train_step did not return expected logs for batch 20 in epoch 5. logs: None\n",
            "Warning: train_step did not return expected logs for batch 21 in epoch 5. logs: None\n",
            "Warning: train_step did not return expected logs for batch 22 in epoch 5. logs: None\n",
            "Warning: train_step did not return expected logs for batch 23 in epoch 5. logs: None\n",
            "Warning: train_step did not return expected logs for batch 24 in epoch 5. logs: None\n",
            "Warning: train_step did not return expected logs for batch 25 in epoch 5. logs: None\n",
            "Warning: train_step did not return expected logs for batch 26 in epoch 5. logs: None\n",
            "Warning: train_step did not return expected logs for batch 27 in epoch 5. logs: None\n",
            "Warning: train_step did not return expected logs for batch 28 in epoch 5. logs: None\n",
            "Warning: train_step did not return expected logs for batch 29 in epoch 5. logs: None\n",
            "Warning: train_step did not return expected logs for batch 30 in epoch 5. logs: None\n",
            "Warning: train_step did not return expected logs for batch 31 in epoch 5. logs: None\n",
            "Warning: train_step did not return expected logs for batch 32 in epoch 5. logs: None\n",
            "Warning: train_step did not return expected logs for batch 33 in epoch 5. logs: None\n",
            "Warning: train_step did not return expected logs for batch 34 in epoch 5. logs: None\n",
            "Warning: train_step did not return expected logs for batch 35 in epoch 5. logs: None\n",
            "Warning: train_step did not return expected logs for batch 36 in epoch 5. logs: None\n",
            "Warning: train_step did not return expected logs for batch 37 in epoch 5. logs: None\n",
            "Warning: train_step did not return expected logs for batch 38 in epoch 5. logs: None\n",
            "Warning: train_step did not return expected logs for batch 39 in epoch 5. logs: None\n",
            "Warning: train_step did not return expected logs for batch 40 in epoch 5. logs: None\n",
            "Warning: train_step did not return expected logs for batch 41 in epoch 5. logs: None\n",
            "Warning: train_step did not return expected logs for batch 42 in epoch 5. logs: None\n",
            "Warning: train_step did not return expected logs for batch 43 in epoch 5. logs: None\n",
            "Warning: train_step did not return expected logs for batch 44 in epoch 5. logs: None\n",
            "Warning: train_step did not return expected logs for batch 45 in epoch 5. logs: None\n",
            "Warning: train_step did not return expected logs for batch 46 in epoch 5. logs: None\n",
            "Warning: train_step did not return expected logs for batch 47 in epoch 5. logs: None\n",
            "Warning: train_step did not return expected logs for batch 48 in epoch 5. logs: None\n",
            "Warning: train_step did not return expected logs for batch 49 in epoch 5. logs: None\n",
            "Warning: train_step did not return expected logs for batch 50 in epoch 5. logs: None\n",
            "Epoch 5 Batch 50 Loss N/A\n",
            "Warning: train_step did not return expected logs for batch 51 in epoch 5. logs: None\n",
            "Warning: train_step did not return expected logs for batch 52 in epoch 5. logs: None\n",
            "Warning: train_step did not return expected logs for batch 53 in epoch 5. logs: None\n",
            "Warning: train_step did not return expected logs for batch 54 in epoch 5. logs: None\n",
            "Warning: train_step did not return expected logs for batch 55 in epoch 5. logs: None\n",
            "Warning: train_step did not return expected logs for batch 56 in epoch 5. logs: None\n",
            "Warning: train_step did not return expected logs for batch 57 in epoch 5. logs: None\n",
            "Warning: train_step did not return expected logs for batch 58 in epoch 5. logs: None\n",
            "Warning: train_step did not return expected logs for batch 59 in epoch 5. logs: None\n",
            "Warning: train_step did not return expected logs for batch 60 in epoch 5. logs: None\n",
            "Warning: train_step did not return expected logs for batch 61 in epoch 5. logs: None\n",
            "Warning: train_step did not return expected logs for batch 62 in epoch 5. logs: None\n",
            "Warning: train_step did not return expected logs for batch 63 in epoch 5. logs: None\n",
            "Warning: train_step did not return expected logs for batch 64 in epoch 5. logs: None\n",
            "Warning: train_step did not return expected logs for batch 65 in epoch 5. logs: None\n",
            "Warning: train_step did not return expected logs for batch 66 in epoch 5. logs: None\n",
            "Warning: train_step did not return expected logs for batch 67 in epoch 5. logs: None\n",
            "Warning: train_step did not return expected logs for batch 68 in epoch 5. logs: None\n",
            "Warning: train_step did not return expected logs for batch 69 in epoch 5. logs: None\n",
            "Warning: train_step did not return expected logs for batch 70 in epoch 5. logs: None\n",
            "Warning: train_step did not return expected logs for batch 71 in epoch 5. logs: None\n",
            "Warning: train_step did not return expected logs for batch 72 in epoch 5. logs: None\n",
            "Warning: train_step did not return expected logs for batch 73 in epoch 5. logs: None\n",
            "Warning: train_step did not return expected logs for batch 74 in epoch 5. logs: None\n",
            "Warning: train_step did not return expected logs for batch 75 in epoch 5. logs: None\n",
            "Warning: train_step did not return expected logs for batch 76 in epoch 5. logs: None\n",
            "Warning: train_step did not return expected logs for batch 77 in epoch 5. logs: None\n",
            "Warning: train_step did not return expected logs for batch 78 in epoch 5. logs: None\n",
            "Warning: train_step did not return expected logs for batch 79 in epoch 5. logs: None\n",
            "Warning: train_step did not return expected logs for batch 80 in epoch 5. logs: None\n",
            "Warning: train_step did not return expected logs for batch 81 in epoch 5. logs: None\n",
            "Warning: train_step did not return expected logs for batch 82 in epoch 5. logs: None\n",
            "Warning: train_step did not return expected logs for batch 83 in epoch 5. logs: None\n",
            "Warning: train_step did not return expected logs for batch 84 in epoch 5. logs: None\n",
            "Warning: train_step did not return expected logs for batch 85 in epoch 5. logs: None\n",
            "Warning: train_step did not return expected logs for batch 86 in epoch 5. logs: None\n",
            "Warning: train_step did not return expected logs for batch 87 in epoch 5. logs: None\n",
            "Warning: train_step did not return expected logs for batch 88 in epoch 5. logs: None\n",
            "Warning: train_step did not return expected logs for batch 89 in epoch 5. logs: None\n",
            "Warning: train_step did not return expected logs for batch 90 in epoch 5. logs: None\n",
            "Warning: train_step did not return expected logs for batch 91 in epoch 5. logs: None\n",
            "Warning: train_step did not return expected logs for batch 92 in epoch 5. logs: None\n",
            "Warning: train_step did not return expected logs for batch 93 in epoch 5. logs: None\n",
            "Warning: train_step did not return expected logs for batch 94 in epoch 5. logs: None\n",
            "Warning: train_step did not return expected logs for batch 95 in epoch 5. logs: None\n",
            "Warning: train_step did not return expected logs for batch 96 in epoch 5. logs: None\n",
            "Warning: train_step did not return expected logs for batch 97 in epoch 5. logs: None\n",
            "Warning: train_step did not return expected logs for batch 98 in epoch 5. logs: None\n",
            "Warning: train_step did not return expected logs for batch 99 in epoch 5. logs: None\n",
            "Warning: train_step did not return expected logs for batch 100 in epoch 5. logs: None\n",
            "Epoch 5 Batch 100 Loss N/A\n",
            "Warning: train_step did not return expected logs for batch 101 in epoch 5. logs: None\n",
            "Warning: train_step did not return expected logs for batch 102 in epoch 5. logs: None\n",
            "Warning: train_step did not return expected logs for batch 103 in epoch 5. logs: None\n",
            "Warning: train_step did not return expected logs for batch 104 in epoch 5. logs: None\n",
            "Warning: train_step did not return expected logs for batch 105 in epoch 5. logs: None\n",
            "Warning: train_step did not return expected logs for batch 106 in epoch 5. logs: None\n",
            "Warning: train_step did not return expected logs for batch 107 in epoch 5. logs: None\n",
            "Warning: train_step did not return expected logs for batch 108 in epoch 5. logs: None\n",
            "Warning: train_step did not return expected logs for batch 109 in epoch 5. logs: None\n",
            "Warning: train_step did not return expected logs for batch 110 in epoch 5. logs: None\n",
            "Warning: train_step did not return expected logs for batch 111 in epoch 5. logs: None\n",
            "Warning: train_step did not return expected logs for batch 112 in epoch 5. logs: None\n",
            "Warning: train_step did not return expected logs for batch 113 in epoch 5. logs: None\n",
            "Warning: train_step did not return expected logs for batch 114 in epoch 5. logs: None\n",
            "Warning: train_step did not return expected logs for batch 115 in epoch 5. logs: None\n",
            "Warning: train_step did not return expected logs for batch 116 in epoch 5. logs: None\n",
            "Warning: train_step did not return expected logs for batch 117 in epoch 5. logs: None\n",
            "Warning: train_step did not return expected logs for batch 118 in epoch 5. logs: None\n",
            "Warning: train_step did not return expected logs for batch 119 in epoch 5. logs: None\n",
            "Warning: train_step did not return expected logs for batch 120 in epoch 5. logs: None\n",
            "Warning: train_step did not return expected logs for batch 121 in epoch 5. logs: None\n",
            "Warning: train_step did not return expected logs for batch 122 in epoch 5. logs: None\n",
            "Warning: train_step did not return expected logs for batch 123 in epoch 5. logs: None\n",
            "Warning: train_step did not return expected logs for batch 124 in epoch 5. logs: None\n",
            "Warning: train_step did not return expected logs for batch 125 in epoch 5. logs: None\n",
            "Warning: train_step did not return expected logs for batch 126 in epoch 5. logs: None\n",
            "Warning: train_step did not return expected logs for batch 127 in epoch 5. logs: None\n",
            "Warning: train_step did not return expected logs for batch 128 in epoch 5. logs: None\n",
            "Warning: train_step did not return expected logs for batch 129 in epoch 5. logs: None\n",
            "Warning: train_step did not return expected logs for batch 130 in epoch 5. logs: None\n",
            "Warning: train_step did not return expected logs for batch 131 in epoch 5. logs: None\n",
            "Warning: train_step did not return expected logs for batch 132 in epoch 5. logs: None\n",
            "Warning: train_step did not return expected logs for batch 133 in epoch 5. logs: None\n",
            "Warning: train_step did not return expected logs for batch 134 in epoch 5. logs: None\n",
            "Warning: train_step did not return expected logs for batch 135 in epoch 5. logs: None\n",
            "Warning: train_step did not return expected logs for batch 136 in epoch 5. logs: None\n",
            "Warning: train_step did not return expected logs for batch 137 in epoch 5. logs: None\n",
            "Warning: train_step did not return expected logs for batch 138 in epoch 5. logs: None\n",
            "Warning: train_step did not return expected logs for batch 139 in epoch 5. logs: None\n",
            "Warning: train_step did not return expected logs for batch 140 in epoch 5. logs: None\n",
            "Warning: train_step did not return expected logs for batch 141 in epoch 5. logs: None\n",
            "Warning: train_step did not return expected logs for batch 142 in epoch 5. logs: None\n",
            "Warning: train_step did not return expected logs for batch 143 in epoch 5. logs: None\n",
            "Warning: train_step did not return expected logs for batch 144 in epoch 5. logs: None\n",
            "Warning: train_step did not return expected logs for batch 145 in epoch 5. logs: None\n",
            "Warning: train_step did not return expected logs for batch 146 in epoch 5. logs: None\n",
            "Warning: train_step did not return expected logs for batch 147 in epoch 5. logs: None\n",
            "Warning: train_step did not return expected logs for batch 148 in epoch 5. logs: None\n",
            "Warning: train_step did not return expected logs for batch 149 in epoch 5. logs: None\n",
            "Warning: train_step did not return expected logs for batch 150 in epoch 5. logs: None\n",
            "Epoch 5 Batch 150 Loss N/A\n",
            "Warning: train_step did not return expected logs for batch 151 in epoch 5. logs: None\n",
            "Warning: train_step did not return expected logs for batch 152 in epoch 5. logs: None\n",
            "Warning: train_step did not return expected logs for batch 153 in epoch 5. logs: None\n",
            "Warning: train_step did not return expected logs for batch 154 in epoch 5. logs: None\n",
            "Warning: train_step did not return expected logs for batch 155 in epoch 5. logs: None\n",
            "Warning: train_step did not return expected logs for batch 156 in epoch 5. logs: None\n",
            "Warning: train_step did not return expected logs for batch 157 in epoch 5. logs: None\n",
            "Warning: train_step did not return expected logs for batch 158 in epoch 5. logs: None\n",
            "Warning: train_step did not return expected logs for batch 159 in epoch 5. logs: None\n",
            "Warning: train_step did not return expected logs for batch 160 in epoch 5. logs: None\n",
            "Warning: train_step did not return expected logs for batch 161 in epoch 5. logs: None\n",
            "Warning: train_step did not return expected logs for batch 162 in epoch 5. logs: None\n",
            "Warning: train_step did not return expected logs for batch 163 in epoch 5. logs: None\n",
            "Warning: train_step did not return expected logs for batch 164 in epoch 5. logs: None\n",
            "Warning: train_step did not return expected logs for batch 165 in epoch 5. logs: None\n",
            "Warning: train_step did not return expected logs for batch 166 in epoch 5. logs: None\n",
            "Warning: train_step did not return expected logs for batch 167 in epoch 5. logs: None\n",
            "Warning: train_step did not return expected logs for batch 168 in epoch 5. logs: None\n",
            "Warning: train_step did not return expected logs for batch 169 in epoch 5. logs: None\n",
            "Warning: train_step did not return expected logs for batch 170 in epoch 5. logs: None\n",
            "Warning: train_step did not return expected logs for batch 171 in epoch 5. logs: None\n"
          ]
        },
        {
          "output_type": "error",
          "ename": "NameError",
          "evalue": "name 'checkpoint_prefix' is not defined",
          "traceback": [
            "\u001b[0;31m---------------------------------------------------------------------------\u001b[0m",
            "\u001b[0;31mNameError\u001b[0m                                 Traceback (most recent call last)",
            "\u001b[0;32m<ipython-input-158-f2468523ee58>\u001b[0m in \u001b[0;36m<cell line: 11>\u001b[0;34m()\u001b[0m\n\u001b[1;32m     41\u001b[0m   \u001b[0;31m# saving (checkpoint) the model every 5 epochs\u001b[0m\u001b[0;34m\u001b[0m\u001b[0;34m\u001b[0m\u001b[0m\n\u001b[1;32m     42\u001b[0m   \u001b[0;32mif\u001b[0m \u001b[0;34m(\u001b[0m\u001b[0mepoch\u001b[0m \u001b[0;34m+\u001b[0m \u001b[0;36m1\u001b[0m\u001b[0;34m)\u001b[0m \u001b[0;34m%\u001b[0m \u001b[0;36m5\u001b[0m \u001b[0;34m==\u001b[0m \u001b[0;36m0\u001b[0m\u001b[0;34m:\u001b[0m\u001b[0;34m\u001b[0m\u001b[0;34m\u001b[0m\u001b[0m\n\u001b[0;32m---> 43\u001b[0;31m     \u001b[0mmodel\u001b[0m\u001b[0;34m.\u001b[0m\u001b[0msave_weights\u001b[0m\u001b[0;34m(\u001b[0m\u001b[0mcheckpoint_prefix\u001b[0m\u001b[0;34m.\u001b[0m\u001b[0mformat\u001b[0m\u001b[0;34m(\u001b[0m\u001b[0mepoch\u001b[0m\u001b[0;34m=\u001b[0m\u001b[0mepoch\u001b[0m\u001b[0;34m)\u001b[0m\u001b[0;34m)\u001b[0m\u001b[0;34m\u001b[0m\u001b[0;34m\u001b[0m\u001b[0m\n\u001b[0m\u001b[1;32m     44\u001b[0m \u001b[0;34m\u001b[0m\u001b[0m\n\u001b[1;32m     45\u001b[0m   \u001b[0mprint\u001b[0m\u001b[0;34m(\u001b[0m\u001b[0;34m)\u001b[0m\u001b[0;34m\u001b[0m\u001b[0;34m\u001b[0m\u001b[0m\n",
            "\u001b[0;31mNameError\u001b[0m: name 'checkpoint_prefix' is not defined"
          ]
        }
      ]
    },
    {
      "cell_type": "markdown",
      "source": [
        "# Jawab:\n",
        "\n",
        "Pada praktikum kedua, penggunaan metode train_step memang cenderung lebih sederhana karena pada dasarnya metode ini hanya menangani satu langkah pelatihan (training step) pada satu batch data.\n",
        "\n",
        "Pada tugas, menggunakan metode train, proses pelatihan menjadi lebih kompleks namun terstruktur dengan baik. Metode train adalah implementasi tingkat lebih tinggi yang sudah mengabstraksi banyak bagian dari proses pelatihan. Dengan menggunakan metode ini, model secara otomatis mengelola berbagai aspek seperti pengaturan batch size, optimisasi, dan pelacakan langkah-langkah pelatihan.\n",
        "\n"
      ],
      "metadata": {
        "id": "qf4mnG6V3K_w"
      }
    }
  ]
}